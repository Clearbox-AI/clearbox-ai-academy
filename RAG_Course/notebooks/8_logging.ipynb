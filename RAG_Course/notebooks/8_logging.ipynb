{
 "cells": [
  {
   "cell_type": "markdown",
   "metadata": {},
   "source": [
    "## Logging "
   ]
  },
  {
   "cell_type": "code",
   "execution_count": 1,
   "metadata": {},
   "outputs": [
    {
     "name": "stderr",
     "output_type": "stream",
     "text": [
      "2024-11-21 16:02:31,353 - WARNING - root - This is a general warning message.\n",
      "2024-11-21 16:02:31,353 - DEBUG - haystack - This is a debug message specifically for the Haystack logger.\n",
      "2024-11-21 16:02:31,477 - DEBUG - urllib3.connectionpool - Starting new HTTPS connection (1): huggingface.co:443\n",
      "2024-11-21 16:02:31,771 - DEBUG - urllib3.connectionpool - https://huggingface.co:443 \"HEAD /deepset/roberta-base-squad2-distilled/resolve/main/config.json HTTP/1.1\" 200 0\n",
      "2024-11-21 16:02:31,777 - DEBUG - filelock - Attempting to acquire lock 5266892432 on /Users/simonamazzarino/.cache/huggingface/hub/.locks/models--deepset--roberta-base-squad2-distilled/7aea42d1fcd0acbd46d6805b80589942daaaf0ff.lock\n",
      "2024-11-21 16:02:31,778 - DEBUG - filelock - Lock 5266892432 acquired on /Users/simonamazzarino/.cache/huggingface/hub/.locks/models--deepset--roberta-base-squad2-distilled/7aea42d1fcd0acbd46d6805b80589942daaaf0ff.lock\n",
      "2024-11-21 16:02:32,019 - DEBUG - urllib3.connectionpool - https://huggingface.co:443 \"GET /deepset/roberta-base-squad2-distilled/resolve/main/config.json HTTP/1.1\" 200 729\n"
     ]
    },
    {
     "data": {
      "application/vnd.jupyter.widget-view+json": {
       "model_id": "144cdf94525749c5a70699ff1491f0b5",
       "version_major": 2,
       "version_minor": 0
      },
      "text/plain": [
       "config.json:   0%|          | 0.00/729 [00:00<?, ?B/s]"
      ]
     },
     "metadata": {},
     "output_type": "display_data"
    },
    {
     "name": "stderr",
     "output_type": "stream",
     "text": [
      "2024-11-21 16:02:32,146 - DEBUG - filelock - Attempting to release lock 5266892432 on /Users/simonamazzarino/.cache/huggingface/hub/.locks/models--deepset--roberta-base-squad2-distilled/7aea42d1fcd0acbd46d6805b80589942daaaf0ff.lock\n",
      "2024-11-21 16:02:32,147 - DEBUG - filelock - Lock 5266892432 released on /Users/simonamazzarino/.cache/huggingface/hub/.locks/models--deepset--roberta-base-squad2-distilled/7aea42d1fcd0acbd46d6805b80589942daaaf0ff.lock\n",
      "2024-11-21 16:02:33,172 - DEBUG - urllib3.connectionpool - https://huggingface.co:443 \"HEAD /deepset/roberta-base-squad2-distilled/resolve/main/model.safetensors HTTP/1.1\" 302 0\n",
      "2024-11-21 16:02:33,294 - DEBUG - filelock - Attempting to acquire lock 5360011344 on /Users/simonamazzarino/.cache/huggingface/hub/.locks/models--deepset--roberta-base-squad2-distilled/106dc06a09bae48ef4f4a69b9510e2d7bce9ba6536728f70ca779cdf1b2f6db3.lock\n",
      "2024-11-21 16:02:33,295 - DEBUG - filelock - Lock 5360011344 acquired on /Users/simonamazzarino/.cache/huggingface/hub/.locks/models--deepset--roberta-base-squad2-distilled/106dc06a09bae48ef4f4a69b9510e2d7bce9ba6536728f70ca779cdf1b2f6db3.lock\n",
      "2024-11-21 16:02:33,300 - DEBUG - urllib3.connectionpool - Starting new HTTPS connection (1): cdn-lfs.hf.co:443\n",
      "2024-11-21 16:02:33,609 - DEBUG - urllib3.connectionpool - https://cdn-lfs.hf.co:443 \"GET /deepset/roberta-base-squad2-distilled/106dc06a09bae48ef4f4a69b9510e2d7bce9ba6536728f70ca779cdf1b2f6db3?response-content-disposition=inline%3B+filename*%3DUTF-8%27%27model.safetensors%3B+filename%3D%22model.safetensors%22%3B&Expires=1732460553&Policy=eyJTdGF0ZW1lbnQiOlt7IkNvbmRpdGlvbiI6eyJEYXRlTGVzc1RoYW4iOnsiQVdTOkVwb2NoVGltZSI6MTczMjQ2MDU1M319LCJSZXNvdXJjZSI6Imh0dHBzOi8vY2RuLWxmcy5oZi5jby9kZWVwc2V0L3JvYmVydGEtYmFzZS1zcXVhZDItZGlzdGlsbGVkLzEwNmRjMDZhMDliYWU0OGVmNGY0YTY5Yjk1MTBlMmQ3YmNlOWJhNjUzNjcyOGY3MGNhNzc5Y2RmMWIyZjZkYjM~cmVzcG9uc2UtY29udGVudC1kaXNwb3NpdGlvbj0qIn1dfQ__&Signature=gY4HxpIO2Y8pEcHoggotHf639DqcMV5UAafQj4yC0itSPnQSiRFjSTw9ewa9lrFyMZ3C3DeSznAh16a6VaxR-vfocfuLWXxAh7CU9vWQkN3U0eAn~Zzlh8FxMMz32wZQljPj~5vxNy0VJMDU9IM58ivilaLHw-b2uETesIQDG-tBVGGzozg0aYBOWzycqj86UzE55hdw5OY4A252wF5uyny4VoaOjnnkDkLP8B5zrk-oE-Ov9LXnjXshabPHPScVgCkY5bpoLyYtdamPajm8drZeDCLR9Svr~jtmaHb5xW1PU9qSpkNwoutaYx8WM1F0lyiJpetFyaufo~xcJz1lvA__&Key-Pair-Id=K3RPWS32NSSJCE HTTP/1.1\" 200 496254452\n"
     ]
    },
    {
     "data": {
      "application/vnd.jupyter.widget-view+json": {
       "model_id": "6ac709626b644850b58e674fe3d25032",
       "version_major": 2,
       "version_minor": 0
      },
      "text/plain": [
       "model.safetensors:   0%|          | 0.00/496M [00:00<?, ?B/s]"
      ]
     },
     "metadata": {},
     "output_type": "display_data"
    },
    {
     "name": "stderr",
     "output_type": "stream",
     "text": [
      "2024-11-21 16:03:33,075 - DEBUG - filelock - Attempting to release lock 5360011344 on /Users/simonamazzarino/.cache/huggingface/hub/.locks/models--deepset--roberta-base-squad2-distilled/106dc06a09bae48ef4f4a69b9510e2d7bce9ba6536728f70ca779cdf1b2f6db3.lock\n",
      "2024-11-21 16:03:33,077 - DEBUG - filelock - Lock 5360011344 released on /Users/simonamazzarino/.cache/huggingface/hub/.locks/models--deepset--roberta-base-squad2-distilled/106dc06a09bae48ef4f4a69b9510e2d7bce9ba6536728f70ca779cdf1b2f6db3.lock\n",
      "2024-11-21 16:03:35,156 - DEBUG - urllib3.connectionpool - https://huggingface.co:443 \"HEAD /deepset/roberta-base-squad2-distilled/resolve/main/tokenizer_config.json HTTP/1.1\" 200 0\n",
      "2024-11-21 16:03:35,159 - DEBUG - filelock - Attempting to acquire lock 5596867600 on /Users/simonamazzarino/.cache/huggingface/hub/.locks/models--deepset--roberta-base-squad2-distilled/6fe1dd378028ed71bba0026ca663cba4bba44438.lock\n",
      "2024-11-21 16:03:35,160 - DEBUG - filelock - Lock 5596867600 acquired on /Users/simonamazzarino/.cache/huggingface/hub/.locks/models--deepset--roberta-base-squad2-distilled/6fe1dd378028ed71bba0026ca663cba4bba44438.lock\n",
      "2024-11-21 16:03:35,363 - DEBUG - urllib3.connectionpool - https://huggingface.co:443 \"GET /deepset/roberta-base-squad2-distilled/resolve/main/tokenizer_config.json HTTP/1.1\" 200 295\n"
     ]
    },
    {
     "data": {
      "application/vnd.jupyter.widget-view+json": {
       "model_id": "d786fd6ffb194a69b60cbd9835fb39a8",
       "version_major": 2,
       "version_minor": 0
      },
      "text/plain": [
       "tokenizer_config.json:   0%|          | 0.00/295 [00:00<?, ?B/s]"
      ]
     },
     "metadata": {},
     "output_type": "display_data"
    },
    {
     "name": "stderr",
     "output_type": "stream",
     "text": [
      "2024-11-21 16:03:35,375 - DEBUG - filelock - Attempting to release lock 5596867600 on /Users/simonamazzarino/.cache/huggingface/hub/.locks/models--deepset--roberta-base-squad2-distilled/6fe1dd378028ed71bba0026ca663cba4bba44438.lock\n",
      "2024-11-21 16:03:35,376 - DEBUG - filelock - Lock 5596867600 released on /Users/simonamazzarino/.cache/huggingface/hub/.locks/models--deepset--roberta-base-squad2-distilled/6fe1dd378028ed71bba0026ca663cba4bba44438.lock\n",
      "2024-11-21 16:03:35,671 - DEBUG - urllib3.connectionpool - https://huggingface.co:443 \"HEAD /deepset/roberta-base-squad2-distilled/resolve/main/vocab.json HTTP/1.1\" 200 0\n",
      "2024-11-21 16:03:35,674 - DEBUG - filelock - Attempting to acquire lock 5601746768 on /Users/simonamazzarino/.cache/huggingface/hub/.locks/models--deepset--roberta-base-squad2-distilled/4ebe4bb3f3114daf2e4cc349f24873a1175a35d7.lock\n",
      "2024-11-21 16:03:35,675 - DEBUG - filelock - Lock 5601746768 acquired on /Users/simonamazzarino/.cache/huggingface/hub/.locks/models--deepset--roberta-base-squad2-distilled/4ebe4bb3f3114daf2e4cc349f24873a1175a35d7.lock\n",
      "2024-11-21 16:03:36,085 - DEBUG - urllib3.connectionpool - https://huggingface.co:443 \"GET /deepset/roberta-base-squad2-distilled/resolve/main/vocab.json HTTP/1.1\" 200 798293\n"
     ]
    },
    {
     "data": {
      "application/vnd.jupyter.widget-view+json": {
       "model_id": "913e99f511bf40de87bf0deeced293a0",
       "version_major": 2,
       "version_minor": 0
      },
      "text/plain": [
       "vocab.json:   0%|          | 0.00/798k [00:00<?, ?B/s]"
      ]
     },
     "metadata": {},
     "output_type": "display_data"
    },
    {
     "name": "stderr",
     "output_type": "stream",
     "text": [
      "2024-11-21 16:03:36,530 - DEBUG - filelock - Attempting to release lock 5601746768 on /Users/simonamazzarino/.cache/huggingface/hub/.locks/models--deepset--roberta-base-squad2-distilled/4ebe4bb3f3114daf2e4cc349f24873a1175a35d7.lock\n",
      "2024-11-21 16:03:36,531 - DEBUG - filelock - Lock 5601746768 released on /Users/simonamazzarino/.cache/huggingface/hub/.locks/models--deepset--roberta-base-squad2-distilled/4ebe4bb3f3114daf2e4cc349f24873a1175a35d7.lock\n",
      "2024-11-21 16:03:36,811 - DEBUG - urllib3.connectionpool - https://huggingface.co:443 \"HEAD /deepset/roberta-base-squad2-distilled/resolve/main/merges.txt HTTP/1.1\" 200 0\n",
      "2024-11-21 16:03:36,813 - DEBUG - filelock - Attempting to acquire lock 5600898192 on /Users/simonamazzarino/.cache/huggingface/hub/.locks/models--deepset--roberta-base-squad2-distilled/6636bda4a1fd7a63653dffb22683b8162c8de956.lock\n",
      "2024-11-21 16:03:36,814 - DEBUG - filelock - Lock 5600898192 acquired on /Users/simonamazzarino/.cache/huggingface/hub/.locks/models--deepset--roberta-base-squad2-distilled/6636bda4a1fd7a63653dffb22683b8162c8de956.lock\n",
      "2024-11-21 16:03:37,159 - DEBUG - urllib3.connectionpool - https://huggingface.co:443 \"GET /deepset/roberta-base-squad2-distilled/resolve/main/merges.txt HTTP/1.1\" 200 456356\n"
     ]
    },
    {
     "data": {
      "application/vnd.jupyter.widget-view+json": {
       "model_id": "6d74a35e178f42d29682076db0e5ee18",
       "version_major": 2,
       "version_minor": 0
      },
      "text/plain": [
       "merges.txt:   0%|          | 0.00/456k [00:00<?, ?B/s]"
      ]
     },
     "metadata": {},
     "output_type": "display_data"
    },
    {
     "name": "stderr",
     "output_type": "stream",
     "text": [
      "2024-11-21 16:03:37,252 - DEBUG - filelock - Attempting to release lock 5600898192 on /Users/simonamazzarino/.cache/huggingface/hub/.locks/models--deepset--roberta-base-squad2-distilled/6636bda4a1fd7a63653dffb22683b8162c8de956.lock\n",
      "2024-11-21 16:03:37,252 - DEBUG - filelock - Lock 5600898192 released on /Users/simonamazzarino/.cache/huggingface/hub/.locks/models--deepset--roberta-base-squad2-distilled/6636bda4a1fd7a63653dffb22683b8162c8de956.lock\n",
      "2024-11-21 16:03:37,494 - DEBUG - urllib3.connectionpool - https://huggingface.co:443 \"HEAD /deepset/roberta-base-squad2-distilled/resolve/main/tokenizer.json HTTP/1.1\" 200 0\n",
      "2024-11-21 16:03:37,496 - DEBUG - filelock - Attempting to acquire lock 5601724944 on /Users/simonamazzarino/.cache/huggingface/hub/.locks/models--deepset--roberta-base-squad2-distilled/75801df688e89a96f642b98cbdd97288f5207518.lock\n",
      "2024-11-21 16:03:37,496 - DEBUG - filelock - Lock 5601724944 acquired on /Users/simonamazzarino/.cache/huggingface/hub/.locks/models--deepset--roberta-base-squad2-distilled/75801df688e89a96f642b98cbdd97288f5207518.lock\n",
      "2024-11-21 16:03:37,717 - DEBUG - urllib3.connectionpool - https://huggingface.co:443 \"GET /deepset/roberta-base-squad2-distilled/resolve/main/tokenizer.json HTTP/1.1\" 200 1355881\n"
     ]
    },
    {
     "data": {
      "application/vnd.jupyter.widget-view+json": {
       "model_id": "3b51907c15c4466dbdcd00bf2fa7a8fa",
       "version_major": 2,
       "version_minor": 0
      },
      "text/plain": [
       "tokenizer.json:   0%|          | 0.00/1.36M [00:00<?, ?B/s]"
      ]
     },
     "metadata": {},
     "output_type": "display_data"
    },
    {
     "name": "stderr",
     "output_type": "stream",
     "text": [
      "2024-11-21 16:03:38,280 - DEBUG - filelock - Attempting to release lock 5601724944 on /Users/simonamazzarino/.cache/huggingface/hub/.locks/models--deepset--roberta-base-squad2-distilled/75801df688e89a96f642b98cbdd97288f5207518.lock\n",
      "2024-11-21 16:03:38,281 - DEBUG - filelock - Lock 5601724944 released on /Users/simonamazzarino/.cache/huggingface/hub/.locks/models--deepset--roberta-base-squad2-distilled/75801df688e89a96f642b98cbdd97288f5207518.lock\n",
      "2024-11-21 16:03:38,463 - DEBUG - urllib3.connectionpool - https://huggingface.co:443 \"HEAD /deepset/roberta-base-squad2-distilled/resolve/main/added_tokens.json HTTP/1.1\" 404 0\n",
      "2024-11-21 16:03:38,683 - DEBUG - urllib3.connectionpool - https://huggingface.co:443 \"HEAD /deepset/roberta-base-squad2-distilled/resolve/main/special_tokens_map.json HTTP/1.1\" 200 0\n",
      "2024-11-21 16:03:38,687 - DEBUG - filelock - Attempting to acquire lock 5601724944 on /Users/simonamazzarino/.cache/huggingface/hub/.locks/models--deepset--roberta-base-squad2-distilled/2ea7ad0e45a9d1d1591782ba7e29a703d0758831.lock\n",
      "2024-11-21 16:03:38,689 - DEBUG - filelock - Lock 5601724944 acquired on /Users/simonamazzarino/.cache/huggingface/hub/.locks/models--deepset--roberta-base-squad2-distilled/2ea7ad0e45a9d1d1591782ba7e29a703d0758831.lock\n",
      "2024-11-21 16:03:38,910 - DEBUG - urllib3.connectionpool - https://huggingface.co:443 \"GET /deepset/roberta-base-squad2-distilled/resolve/main/special_tokens_map.json HTTP/1.1\" 200 239\n"
     ]
    },
    {
     "data": {
      "application/vnd.jupyter.widget-view+json": {
       "model_id": "4fbb53ba7a944003bee007c67a4f5b90",
       "version_major": 2,
       "version_minor": 0
      },
      "text/plain": [
       "special_tokens_map.json:   0%|          | 0.00/239 [00:00<?, ?B/s]"
      ]
     },
     "metadata": {},
     "output_type": "display_data"
    },
    {
     "name": "stderr",
     "output_type": "stream",
     "text": [
      "2024-11-21 16:03:38,927 - DEBUG - filelock - Attempting to release lock 5601724944 on /Users/simonamazzarino/.cache/huggingface/hub/.locks/models--deepset--roberta-base-squad2-distilled/2ea7ad0e45a9d1d1591782ba7e29a703d0758831.lock\n",
      "2024-11-21 16:03:38,928 - DEBUG - filelock - Lock 5601724944 released on /Users/simonamazzarino/.cache/huggingface/hub/.locks/models--deepset--roberta-base-squad2-distilled/2ea7ad0e45a9d1d1591782ba7e29a703d0758831.lock\n",
      "2024-11-21 16:03:39,065 - DEBUG - haystack.core.pipeline.base - Adding component 'retriever' (<haystack.components.retrievers.in_memory.bm25_retriever.InMemoryBM25Retriever object at 0x139e2f750>\n",
      "\n",
      "Inputs:\n",
      "  - query: str\n",
      "  - filters: Optional[Dict[str, Any]]\n",
      "  - top_k: Optional[int]\n",
      "  - scale_score: Optional[bool]\n",
      "Outputs:\n",
      "  - documents: List[Document])\n",
      "2024-11-21 16:03:39,066 - DEBUG - haystack.core.pipeline.base - Adding component 'reader' (<haystack.components.readers.extractive.ExtractiveReader object at 0x139ee3d10>\n",
      "\n",
      "Inputs:\n",
      "  - query: str\n",
      "  - documents: List[Document]\n",
      "  - top_k: Optional[int]\n",
      "  - score_threshold: Optional[float]\n",
      "  - max_seq_length: Optional[int]\n",
      "  - stride: Optional[int]\n",
      "  - max_batch_size: Optional[int]\n",
      "  - answers_per_seq: Optional[int]\n",
      "  - no_answer: Optional[bool]\n",
      "  - overlap_threshold: Optional[float]\n",
      "Outputs:\n",
      "  - answers: List[ExtractedAnswer])\n",
      "2024-11-21 16:03:39,066 - DEBUG - haystack.core.pipeline.base - Connecting 'retriever.documents' to 'reader.documents'\n",
      "2024-11-21 16:03:39,068 - INFO - haystack.core.pipeline.base - Warming up component reader...\n",
      "2024-11-21 16:03:39,069 - INFO - haystack.core.pipeline.pipeline - Running component retriever\n",
      "2024-11-21 16:03:39,070 - DEBUG - haystack.tracing.logging_tracer - Operation: haystack.component.run\n",
      "2024-11-21 16:03:39,070 - DEBUG - haystack.tracing.logging_tracer - \u001b[1;34mhaystack.component.name=retriever\u001b[0m\n",
      "2024-11-21 16:03:39,071 - DEBUG - haystack.tracing.logging_tracer - haystack.component.type=InMemoryBM25Retriever\u001b[0m\n",
      "2024-11-21 16:03:39,071 - DEBUG - haystack.tracing.logging_tracer - haystack.component.input_types={'query': 'str', 'top_k': 'int', 'filters': 'NoneType', 'scale_score': 'NoneType'}\u001b[0m\n",
      "2024-11-21 16:03:39,072 - DEBUG - haystack.tracing.logging_tracer - haystack.component.input_spec={'query': {'type': 'str', 'senders': []}, 'filters': {'type': 'typing.Optional[typing.Dict[str, typing.Any]]', 'senders': []}, 'top_k': {'type': 'typing.Optional[int]', 'senders': []}, 'scale_score': {'type': 'typing.Optional[bool]', 'senders': []}}\u001b[0m\n",
      "2024-11-21 16:03:39,072 - DEBUG - haystack.tracing.logging_tracer - haystack.component.output_spec={'documents': {'type': 'typing.List[haystack.dataclasses.document.Document]', 'receivers': ['reader']}}\u001b[0m\n",
      "2024-11-21 16:03:39,073 - DEBUG - haystack.tracing.logging_tracer - haystack.component.visits=1\u001b[0m\n",
      "2024-11-21 16:03:39,074 - INFO - haystack.core.pipeline.pipeline - Running component reader\n",
      "2024-11-21 16:03:39,648 - DEBUG - urllib3.connectionpool - Starting new HTTPS connection (1): eu-api.i.posthog.com:443\n",
      "2024-11-21 16:03:40,393 - DEBUG - urllib3.connectionpool - https://eu-api.i.posthog.com:443 \"POST /batch/ HTTP/1.1\" 200 15\n",
      "2024-11-21 16:03:44,594 - DEBUG - haystack.tracing.logging_tracer - Operation: haystack.component.run\n",
      "2024-11-21 16:03:44,595 - DEBUG - haystack.tracing.logging_tracer - \u001b[1;34mhaystack.component.name=reader\u001b[0m\n",
      "2024-11-21 16:03:44,595 - DEBUG - haystack.tracing.logging_tracer - haystack.component.type=ExtractiveReader\u001b[0m\n",
      "2024-11-21 16:03:44,596 - DEBUG - haystack.tracing.logging_tracer - haystack.component.input_types={'query': 'str', 'top_k': 'int', 'score_threshold': 'NoneType', 'max_seq_length': 'NoneType', 'stride': 'NoneType', 'max_batch_size': 'NoneType', 'answers_per_seq': 'NoneType', 'no_answer': 'NoneType', 'overlap_threshold': 'NoneType', 'documents': 'list'}\u001b[0m\n",
      "2024-11-21 16:03:44,596 - DEBUG - haystack.tracing.logging_tracer - haystack.component.input_spec={'query': {'type': 'str', 'senders': []}, 'documents': {'type': 'typing.List[haystack.dataclasses.document.Document]', 'senders': ['retriever']}, 'top_k': {'type': 'typing.Optional[int]', 'senders': []}, 'score_threshold': {'type': 'typing.Optional[float]', 'senders': []}, 'max_seq_length': {'type': 'typing.Optional[int]', 'senders': []}, 'stride': {'type': 'typing.Optional[int]', 'senders': []}, 'max_batch_size': {'type': 'typing.Optional[int]', 'senders': []}, 'answers_per_seq': {'type': 'typing.Optional[int]', 'senders': []}, 'no_answer': {'type': 'typing.Optional[bool]', 'senders': []}, 'overlap_threshold': {'type': 'typing.Optional[float]', 'senders': []}}\u001b[0m\n",
      "2024-11-21 16:03:44,596 - DEBUG - haystack.tracing.logging_tracer - haystack.component.output_spec={'answers': {'type': 'typing.List[haystack.dataclasses.answer.ExtractedAnswer]', 'receivers': []}}\u001b[0m\n",
      "2024-11-21 16:03:44,597 - DEBUG - haystack.tracing.logging_tracer - haystack.component.visits=1\u001b[0m\n",
      "2024-11-21 16:03:44,598 - DEBUG - haystack.tracing.logging_tracer - Operation: haystack.pipeline.run\n",
      "2024-11-21 16:03:44,599 - DEBUG - haystack.tracing.logging_tracer - haystack.pipeline.input_data={'retriever': {'query': 'What is the capital of France?', 'top_k': 3, 'filters': None, 'scale_score': None}, 'reader': {'query': 'What is the capital of France?', 'top_k': 2, 'score_threshold': None, 'max_seq_length': None, 'stride': None, 'max_batch_size': None, 'answers_per_seq': None, 'no_answer': None, 'overlap_threshold': None}}\u001b[0m\n",
      "2024-11-21 16:03:44,599 - DEBUG - haystack.tracing.logging_tracer - haystack.pipeline.output_data={'reader': {'answers': [ExtractedAnswer(query='What is the capital of France?', score=0.8202998638153076, data='Paris', document=Document(id=0f5beda04153dbfc462c8b31f8536749e43654709ecf0cfe22c6d009c9912214, content: 'Paris is the capital of France.', score: 1.9188925512689656), context=None, document_offset=ExtractedAnswer.Span(start=0, end=5), context_offset=None, meta={}), ExtractedAnswer(query='What is the capital of France?', score=0.4222555458545685, data='France', document=Document(id=0f5beda04153dbfc462c8b31f8536749e43654709ecf0cfe22c6d009c9912214, content: 'Paris is the capital of France.', score: 1.9188925512689656), context=None, document_offset=ExtractedAnswer.Span(start=24, end=30), context_offset=None, meta={}), ExtractedAnswer(query='What is the capital of France?', score=0.10382075708988481, data=None, document=None, context=None, document_offset=None, context_offset=None, meta={})]}}\u001b[0m\n",
      "2024-11-21 16:03:44,599 - DEBUG - haystack.tracing.logging_tracer - haystack.pipeline.metadata={}\u001b[0m\n",
      "2024-11-21 16:03:44,600 - DEBUG - haystack.tracing.logging_tracer - haystack.pipeline.max_runs_per_component=100\u001b[0m\n"
     ]
    },
    {
     "name": "stdout",
     "output_type": "stream",
     "text": [
      "Log entries saved to log.txt\n"
     ]
    }
   ],
   "source": [
    "from haystack import Document, Pipeline\n",
    "from haystack.document_stores.in_memory import InMemoryDocumentStore\n",
    "from haystack.components.retrievers.in_memory import InMemoryBM25Retriever\n",
    "from haystack.components.readers import ExtractiveReader\n",
    "\n",
    "import logging\n",
    "import haystack.logging\n",
    "from haystack import tracing\n",
    "from haystack.tracing.logging_tracer import LoggingTracer\n",
    "\n",
    "# Clear any existing handlers from the root logger\n",
    "for handler in logging.root.handlers[:]:\n",
    "    logging.root.removeHandler(handler)\n",
    "\n",
    "# Set up a basic file handler to write logs to 'log.json'\n",
    "logging.basicConfig(\n",
    "    level=logging.DEBUG,  # Capture all log levels\n",
    "    format=\"%(asctime)s - %(levelname)s - %(name)s - %(message)s\",\n",
    "    handlers=[\n",
    "        logging.FileHandler(\"log.txt\", mode='w'),  # Write logs to 'log.txt'\n",
    "        logging.StreamHandler()  # Also output to the console for debugging\n",
    "    ]\n",
    ")\n",
    "\n",
    "# Set up Haystack logging configuration\n",
    "haystack.logging.configure_logging(use_json=True)\n",
    "\n",
    "# Set Haystack logger level to DEBUG to capture all events\n",
    "haystack_logger = logging.getLogger(\"haystack\")\n",
    "haystack_logger.setLevel(logging.DEBUG)\n",
    "\n",
    "# Tracing setup\n",
    "tracing.tracer.is_content_tracing_enabled = False  # To enable tracing/logging content (inputs/outputs)\n",
    "tracing.enable_tracing(\n",
    "    LoggingTracer(tags_color_strings={\"haystack.component.input\": \"\\x1b[1;31m\", \"haystack.component.name\": \"\\x1b[1;34m\"})\n",
    ")\n",
    "\n",
    "# Document setup and writing documents to the store\n",
    "docs = [\n",
    "    Document(content=\"Paris is the capital of France.\"),\n",
    "    Document(content=\"Berlin is the capital of Germany.\"),\n",
    "    Document(content=\"Rome is the capital of Italy.\"),\n",
    "    Document(content=\"Madrid is the capital of Spain.\"),\n",
    "]\n",
    "document_store = InMemoryDocumentStore()\n",
    "document_store.write_documents(docs)\n",
    "\n",
    "# Adding a warning to verify log output\n",
    "logging.warning(\"This is a general warning message.\")\n",
    "haystack_logger.debug(\"This is a debug message specifically for the Haystack logger.\")\n",
    "\n",
    "# Setting up retriever, reader, and pipeline\n",
    "retriever = InMemoryBM25Retriever(document_store=document_store)\n",
    "reader = ExtractiveReader()\n",
    "reader.warm_up()\n",
    "\n",
    "extractive_qa_pipeline = Pipeline()\n",
    "extractive_qa_pipeline.add_component(instance=retriever, name=\"retriever\")\n",
    "extractive_qa_pipeline.add_component(instance=reader, name=\"reader\")\n",
    "extractive_qa_pipeline.connect(\"retriever.documents\", \"reader.documents\")\n",
    "\n",
    "# Running the pipeline\n",
    "query = \"What is the capital of France?\"\n",
    "extractive_qa_pipeline.run(\n",
    "    data={\"retriever\": {\"query\": query, \"top_k\": 3}, \"reader\": {\"query\": query, \"top_k\": 2}}\n",
    ")\n",
    "\n",
    "print(\"Log entries saved to log.txt\")\n"
   ]
  },
  {
   "cell_type": "code",
   "execution_count": null,
   "metadata": {},
   "outputs": [],
   "source": []
  }
 ],
 "metadata": {
  "kernelspec": {
   "display_name": "Python 3",
   "language": "python",
   "name": "python3"
  },
  "language_info": {
   "codemirror_mode": {
    "name": "ipython",
    "version": 3
   },
   "file_extension": ".py",
   "mimetype": "text/x-python",
   "name": "python",
   "nbconvert_exporter": "python",
   "pygments_lexer": "ipython3",
   "version": "3.11.2"
  }
 },
 "nbformat": 4,
 "nbformat_minor": 2
}
