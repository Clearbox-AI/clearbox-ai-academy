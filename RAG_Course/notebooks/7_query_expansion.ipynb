{
 "cells": [
  {
   "cell_type": "markdown",
   "metadata": {
    "id": "PwkLlhmsoqnB"
   },
   "source": [
    "# Query Expansion\n",
    "Query expansion consists of asking an LLM to produce a number of similar queries to a user query. We are then able to use each of these queries in the retrieval process, increasing the number and relevance of retrieved documents.\n"
   ]
  },
  {
   "cell_type": "code",
   "execution_count": 15,
   "metadata": {},
   "outputs": [],
   "source": [
    "import warnings\n",
    "warnings.filterwarnings('ignore')\n",
    "\n",
    "import os\n",
    "import rich\n",
    "\n",
    "from dotenv import load_dotenv\n",
    "\n",
    "load_dotenv()\n",
    "\n",
    "#HF_API_TOKEN = os.getenv(\"HF_API_TOKEN\")\n",
    "OPENAI_API_TOKEN = os.getenv(\"OPENAI_API_TOKEN\")"
   ]
  },
  {
   "cell_type": "markdown",
   "metadata": {},
   "source": [
    "For this notebook we will use an InMemoryDocumentStore with document imported from wikipedia"
   ]
  },
  {
   "cell_type": "code",
   "execution_count": 16,
   "metadata": {
    "id": "yrVx-gYoYf6Q"
   },
   "outputs": [],
   "source": [
    "import json\n",
    "\n",
    "from typing import List, Optional\n",
    "from haystack import Pipeline, component\n",
    "from haystack.components.builders import PromptBuilder\n",
    "from haystack.components.generators import OpenAIGenerator\n",
    "from haystack.dataclasses import Document\n",
    "\n",
    "from haystack.utils import Secret"
   ]
  },
  {
   "cell_type": "markdown",
   "metadata": {
    "id": "j4gDkMDCsbpQ"
   },
   "source": [
    "## The Process of Query Expansion\n",
    "\n",
    "First, let's create a `QueryExpander`. This component is going to be able to create a `number` (defaults to 5) of additional queries, similar to the original user query. It returns `queries` that has the original query + `number` of similar queries."
   ]
  },
  {
   "cell_type": "code",
   "execution_count": 26,
   "metadata": {
    "id": "qM5tZEnATjeN"
   },
   "outputs": [],
   "source": [
    "@component\n",
    "class QueryExpander:\n",
    "\n",
    "    def __init__(self, open_ai_key: str , prompt: Optional[str] = None, model: str = \"gpt-4o-mini\"):\n",
    "\n",
    "        self.query_expansion_prompt = prompt\n",
    "        self.model = model\n",
    "        self.open_ai_key = open_ai_key\n",
    "        if prompt == None:\n",
    "          self.query_expansion_prompt = \"\"\"\n",
    "          You are part of an information system that processes users queries.\n",
    "          You expand a given query into {{ number }} queries that are similar in meaning.\n",
    "\n",
    "          Structure:\n",
    "          Follow the structure shown below in examples to generate expanded queries.\n",
    "          Examples:\n",
    "          1. Example Query 1: \"climate change effects\"\n",
    "          Example Expanded Queries: [\"impact of climate change\", \"consequences of global warming\", \"effects of environmental changes\"]\n",
    "\n",
    "          2. Example Query 2: \"\"machine learning algorithms\"\"\n",
    "          Example Expanded Queries: [\"neural networks\", \"clustering\", \"supervised learning\", \"deep learning\"]\n",
    "\n",
    "          Your Task:\n",
    "          Query: \"{{query}}\"\n",
    "          Example Expanded Queries:\n",
    "          \"\"\"\n",
    "        builder = PromptBuilder(self.query_expansion_prompt)\n",
    "        llm = OpenAIGenerator(model = self.model, api_key = self.open_ai_key)\n",
    "        self.pipeline = Pipeline()\n",
    "        self.pipeline.add_component(name=\"builder\", instance=builder)\n",
    "        self.pipeline.add_component(name=\"llm\", instance=llm)\n",
    "        self.pipeline.connect(\"builder\", \"llm\")\n",
    "\n",
    "    @component.output_types(queries=List[str])\n",
    "    def run(self, query: str, number: int = 5):\n",
    "        result = self.pipeline.run({'builder': {'query': query, 'number': number}})\n",
    "        expanded_query = json.loads(result['llm']['replies'][0]) + [query]\n",
    "        return {\"queries\": list(expanded_query)}"
   ]
  },
  {
   "cell_type": "code",
   "execution_count": 27,
   "metadata": {},
   "outputs": [],
   "source": [
    "from haystack_integrations.document_stores.elasticsearch import ElasticsearchDocumentStore\n",
    "from haystack_integrations.components.retrievers.elasticsearch import ElasticsearchEmbeddingRetriever\n",
    "from haystack.components.embedders import SentenceTransformersTextEmbedder"
   ]
  },
  {
   "cell_type": "code",
   "execution_count": 28,
   "metadata": {},
   "outputs": [],
   "source": [
    "document_store = ElasticsearchDocumentStore(hosts = \"http://localhost:9200\")"
   ]
  },
  {
   "cell_type": "markdown",
   "metadata": {
    "id": "gsADarYUvurh"
   },
   "source": [
    "## Retrieval Without Query Expansion"
   ]
  },
  {
   "cell_type": "code",
   "execution_count": 29,
   "metadata": {},
   "outputs": [],
   "source": [
    "embedder = SentenceTransformersTextEmbedder(\"sentence-transformers/all-MiniLM-L6-v2\")\n",
    "retriever = ElasticsearchEmbeddingRetriever(document_store=document_store, top_k = 3)"
   ]
  },
  {
   "cell_type": "code",
   "execution_count": 30,
   "metadata": {},
   "outputs": [
    {
     "data": {
      "text/plain": [
       "<haystack.core.pipeline.pipeline.Pipeline object at 0x2ade17f90>\n",
       "🚅 Components\n",
       "  - query_embedder: SentenceTransformersTextEmbedder\n",
       "  - embedding_retriever: ElasticsearchEmbeddingRetriever\n",
       "🛤️ Connections\n",
       "  - query_embedder.embedding -> embedding_retriever.query_embedding (List[float])"
      ]
     },
     "execution_count": 30,
     "metadata": {},
     "output_type": "execute_result"
    }
   ],
   "source": [
    "retrieval_pipeline = Pipeline()\n",
    "retrieval_pipeline.add_component(\"query_embedder\", embedder)\n",
    "retrieval_pipeline.add_component(\"embedding_retriever\", retriever)\n",
    "\n",
    "retrieval_pipeline.connect(\"query_embedder.embedding\", \"embedding_retriever.query_embedding\")"
   ]
  },
  {
   "cell_type": "code",
   "execution_count": 31,
   "metadata": {
    "colab": {
     "base_uri": "https://localhost:8080/"
    },
    "id": "8j6a-BL9oI8E",
    "outputId": "3626d26f-a640-470a-d964-b083051c97ad"
   },
   "outputs": [
    {
     "data": {
      "application/vnd.jupyter.widget-view+json": {
       "model_id": "276fb8ed657f46dba62f0df5c1148b35",
       "version_major": 2,
       "version_minor": 0
      },
      "text/plain": [
       "Batches:   0%|          | 0/1 [00:00<?, ?it/s]"
      ]
     },
     "metadata": {},
     "output_type": "display_data"
    },
    {
     "data": {
      "text/plain": [
       "{'embedding_retriever': {'documents': [Document(id=26f10b9b6260fd744f1a96e86080d0e204ab9b742c6a7c721e7aa79f86686898, content: 'Tolkien, Robert E. Howard, and H.P. ', meta: {'file_path': 'George_RR_Martin.txt', 'source_id': '1a887948105eaf886872a4f453d6b11e978d08ab88f93bed6ff71f4d318a2c7a', 'page_number': 1, 'split_id': 5, 'split_idx_start': 819}, score: 0.8348361, embedding: vector of size 384),\n",
       "   Document(id=5c477bd7b54b6917fb41b14cdbc12e63ccf7e48ea695571d9638d65f4710442c, content: ' The success of The Hobbit marked Tolkien’s emergence as a prominent author, and his creation of Mid...', meta: {'file_path': '/Users/simonamazzarino/Documents/Clearbox-repo/clearbox-ai-academy/RAG_Course/data/tolkien.txt', 'source_id': '95729082efb874f6adbd167b40d517e72164716f13b409e93ef114cbc81fcb5d', 'page_number': 1, 'split_id': 26, 'split_idx_start': 4073}, score: 0.82304543, embedding: vector of size 384),\n",
       "   Document(id=479e353961c286fdec862662a8583cfd5999a38142443a94205422ba09d896a3, content: 'The success of The Hobbit marked Tolkien’s emergence as a prominent author, and his creation of Midd...', meta: {'file_path': 'tolkien.txt', 'source_id': 'df36a6e19f29965789bd0aec4f23afb6cfe4436938474a5242b204a2fc777eb6', 'page_number': 1, 'split_id': 25, 'split_idx_start': 4074}, score: 0.82304543, embedding: vector of size 384)]}}"
      ]
     },
     "execution_count": 31,
     "metadata": {},
     "output_type": "execute_result"
    }
   ],
   "source": [
    "query = \"Tolkien\"\n",
    "retrieval_pipeline.run({\"query_embedder\":{ \"text\": query}, \"embedding_retriever\":{\"top_k\": 3}})"
   ]
  },
  {
   "cell_type": "markdown",
   "metadata": {
    "id": "ZpJ0juxX0J-B"
   },
   "source": [
    "## Retrieval With Query Expansion\n",
    "\n",
    "Now let's have a look at what documents we are able to retrieve if we include query expansion in the process. For this step, let's create a `MultiQueryElasticEmbeddingRetriever` that is able to use embedding retrieval for each (expanded) query in turn.\n",
    "\n",
    "This component also handles the same document being retrieved for multiple queries and will not return duplicates."
   ]
  },
  {
   "cell_type": "code",
   "execution_count": 32,
   "metadata": {
    "id": "6zZrkocErf3N"
   },
   "outputs": [],
   "source": [
    "@component\n",
    "class MultiQueryElasticsearchEmbeddingRetriever:\n",
    "\n",
    "    def __init__(self, retriever: ElasticsearchEmbeddingRetriever,  top_k: int = 3):\n",
    "        self.retriever = retriever\n",
    "        self.embedder = SentenceTransformersTextEmbedder(\"sentence-transformers/all-MiniLM-L6-v2\")\n",
    "        self.results = []\n",
    "        self.ids = set()\n",
    "        self.top_k = top_k\n",
    "\n",
    "        self.pipeline = Pipeline()\n",
    "        self.pipeline.add_component(name=\"embedder\", instance=self.embedder)\n",
    "        self.pipeline.add_component(name=\"retriever\", instance=self.retriever)\n",
    "        self.pipeline.connect(\"embedder\", \"retriever\")\n",
    "        \n",
    "\n",
    "    def add_document(self, document: Document):\n",
    "        if document.id not in self.ids:\n",
    "            self.results.append(document)\n",
    "            self.ids.add(document.id)\n",
    "\n",
    "    @component.output_types(documents=List[Document])\n",
    "    def run(self, queries: List[str], top_k: int = None):\n",
    "        if top_k != None:\n",
    "          self.top_k = top_k\n",
    "        for query in queries:\n",
    "          result = self.pipeline.run({\"embedder\": {'text':query}, \"retriever\": {\"top_k\": self.top_k}})\n",
    "          for doc in result['retriever']['documents']:\n",
    "            self.add_document(doc)\n",
    "        self.results.sort(key=lambda x: x.score, reverse=True)\n",
    "        return {\"documents\": self.results}"
   ]
  },
  {
   "cell_type": "code",
   "execution_count": 33,
   "metadata": {
    "colab": {
     "base_uri": "https://localhost:8080/"
    },
    "id": "EhL3bQTFoWDK",
    "outputId": "f6f51241-db88-4467-b534-ce9c7e40a0d7"
   },
   "outputs": [
    {
     "data": {
      "text/plain": [
       "<haystack.core.pipeline.pipeline.Pipeline object at 0x15802da10>\n",
       "🚅 Components\n",
       "  - expander: QueryExpander\n",
       "  - embedding_retriever: MultiQueryElasticsearchEmbeddingRetriever\n",
       "🛤️ Connections\n",
       "  - expander.queries -> embedding_retriever.queries (List[str])"
      ]
     },
     "execution_count": 33,
     "metadata": {},
     "output_type": "execute_result"
    }
   ],
   "source": [
    "query_expander = QueryExpander(open_ai_key=Secret.from_token(OPENAI_API_TOKEN))\n",
    "\n",
    "retriever = MultiQueryElasticsearchEmbeddingRetriever(ElasticsearchEmbeddingRetriever(document_store=document_store, top_k = 5))\n",
    "\n",
    "expanded_retrieval_pipeline = Pipeline()\n",
    "expanded_retrieval_pipeline.add_component(\"expander\", query_expander)\n",
    "expanded_retrieval_pipeline.add_component(\"embedding_retriever\", retriever)\n",
    "\n",
    "expanded_retrieval_pipeline.connect(\"expander.queries\", \"embedding_retriever.queries\")"
   ]
  },
  {
   "cell_type": "code",
   "execution_count": 34,
   "metadata": {
    "colab": {
     "base_uri": "https://localhost:8080/"
    },
    "id": "FJXF9nHYsym0",
    "outputId": "f6f2fc33-d6ec-4bca-f2ae-07fdc20f6d31"
   },
   "outputs": [
    {
     "data": {
      "application/vnd.jupyter.widget-view+json": {
       "model_id": "2f2308ba1cde4f55979fab05438451a5",
       "version_major": 2,
       "version_minor": 0
      },
      "text/plain": [
       "Batches:   0%|          | 0/1 [00:00<?, ?it/s]"
      ]
     },
     "metadata": {},
     "output_type": "display_data"
    },
    {
     "data": {
      "application/vnd.jupyter.widget-view+json": {
       "model_id": "c352a7200a764cc5a00266158193bbb8",
       "version_major": 2,
       "version_minor": 0
      },
      "text/plain": [
       "Batches:   0%|          | 0/1 [00:00<?, ?it/s]"
      ]
     },
     "metadata": {},
     "output_type": "display_data"
    },
    {
     "data": {
      "application/vnd.jupyter.widget-view+json": {
       "model_id": "7ff3ddc475034682bdb4b39cd59e0b01",
       "version_major": 2,
       "version_minor": 0
      },
      "text/plain": [
       "Batches:   0%|          | 0/1 [00:00<?, ?it/s]"
      ]
     },
     "metadata": {},
     "output_type": "display_data"
    },
    {
     "data": {
      "application/vnd.jupyter.widget-view+json": {
       "model_id": "d98409901f444e4b97a0b37716de2482",
       "version_major": 2,
       "version_minor": 0
      },
      "text/plain": [
       "Batches:   0%|          | 0/1 [00:00<?, ?it/s]"
      ]
     },
     "metadata": {},
     "output_type": "display_data"
    },
    {
     "data": {
      "application/vnd.jupyter.widget-view+json": {
       "model_id": "11290fef1e154005aa3f8eced935ad28",
       "version_major": 2,
       "version_minor": 0
      },
      "text/plain": [
       "Batches:   0%|          | 0/1 [00:00<?, ?it/s]"
      ]
     },
     "metadata": {},
     "output_type": "display_data"
    },
    {
     "data": {
      "application/vnd.jupyter.widget-view+json": {
       "model_id": "713ad8e860524d7d962bbb528c0b1a4d",
       "version_major": 2,
       "version_minor": 0
      },
      "text/plain": [
       "Batches:   0%|          | 0/1 [00:00<?, ?it/s]"
      ]
     },
     "metadata": {},
     "output_type": "display_data"
    },
    {
     "data": {
      "text/plain": [
       "{'embedding_retriever': {'documents': [Document(id=bd9a33cafb670f9e79c4c24ef3d76afcf75f0ca9cac23f6ef38916c77531a025, content: '\n",
       "   \n",
       "   Despite his achievements, Tolkien faced criticism from some literary circles that dismissed fantas...', meta: {'file_path': '/Users/simonamazzarino/Documents/Clearbox-repo/clearbox-ai-academy/RAG_Course/data/tolkien.txt', 'source_id': '95729082efb874f6adbd167b40d517e72164716f13b409e93ef114cbc81fcb5d', 'page_number': 1, 'split_id': 44, 'split_idx_start': 6808}, score: 0.8746135, embedding: vector of size 384),\n",
       "   Document(id=9f1b29178239d94a77c382f0fe4e3c720212248815e8746132c6dc6471aab535, content: 'Despite his achievements, Tolkien faced criticism from some literary circles that dismissed fantasy ...', meta: {'file_path': 'tolkien.txt', 'source_id': 'df36a6e19f29965789bd0aec4f23afb6cfe4436938474a5242b204a2fc777eb6', 'page_number': 1, 'split_id': 42, 'split_idx_start': 6810}, score: 0.8746135, embedding: vector of size 384),\n",
       "   Document(id=cab8dca864050a6088d187555505f8700bdc78fd0ccdfbc85d54f37a3b5622cb, content: '\n",
       "   \n",
       "   In addition to his novels, Tolkien wrote essays and letters in which he discussed his creative pro...', meta: {'file_path': '/Users/simonamazzarino/Documents/Clearbox-repo/clearbox-ai-academy/RAG_Course/data/tolkien.txt', 'source_id': '95729082efb874f6adbd167b40d517e72164716f13b409e93ef114cbc81fcb5d', 'page_number': 1, 'split_id': 35, 'split_idx_start': 5640}, score: 0.84924996, embedding: vector of size 384),\n",
       "   Document(id=a71ed6b1521657afac5e2858c2a2fd29a57b063726a76996366578ff0dae859d, content: 'In addition to his novels, Tolkien wrote essays and letters in which he discussed his creative proce...', meta: {'file_path': 'tolkien.txt', 'source_id': 'df36a6e19f29965789bd0aec4f23afb6cfe4436938474a5242b204a2fc777eb6', 'page_number': 1, 'split_id': 34, 'split_idx_start': 5642}, score: 0.84924996, embedding: vector of size 384),\n",
       "   Document(id=c9d02f13a39d24ee9fdd8f6a11eb5d06f024b32fd82e9293da8b1b2ac2388e00, content: '\n",
       "   \n",
       "   Tolkien’s legacy endures today, not only through his novels but also through the myriad adaptation...', meta: {'file_path': '/Users/simonamazzarino/Documents/Clearbox-repo/clearbox-ai-academy/RAG_Course/data/tolkien.txt', 'source_id': '95729082efb874f6adbd167b40d517e72164716f13b409e93ef114cbc81fcb5d', 'page_number': 1, 'split_id': 47, 'split_idx_start': 7236}, score: 0.84065396, embedding: vector of size 384),\n",
       "   Document(id=f1590f43ee91eb1ade59d03b99ebe809e1f7ff0b913156d2fa23c892859176ea, content: 'Tolkien’s legacy endures today, not only through his novels but also through the myriad adaptations ...', meta: {'file_path': 'tolkien.txt', 'source_id': 'df36a6e19f29965789bd0aec4f23afb6cfe4436938474a5242b204a2fc777eb6', 'page_number': 1, 'split_id': 45, 'split_idx_start': 7238}, score: 0.84065396, embedding: vector of size 384),\n",
       "   Document(id=f4530333ec5684d00d12232bb3e32d3d95b49090683d6d122ac4a8d61ed38f7f, content: ' This epic story resonated with readers around the world and established Tolkien as a master of stor...', meta: {'file_path': '/Users/simonamazzarino/Documents/Clearbox-repo/clearbox-ai-academy/RAG_Course/data/tolkien.txt', 'source_id': '95729082efb874f6adbd167b40d517e72164716f13b409e93ef114cbc81fcb5d', 'page_number': 1, 'split_id': 30, 'split_idx_start': 4830}, score: 0.8371136, embedding: vector of size 384),\n",
       "   Document(id=26f10b9b6260fd744f1a96e86080d0e204ab9b742c6a7c721e7aa79f86686898, content: 'Tolkien, Robert E. Howard, and H.P. ', meta: {'file_path': 'George_RR_Martin.txt', 'source_id': '1a887948105eaf886872a4f453d6b11e978d08ab88f93bed6ff71f4d318a2c7a', 'page_number': 1, 'split_id': 5, 'split_idx_start': 819}, score: 0.833408, embedding: vector of size 384),\n",
       "   Document(id=5c477bd7b54b6917fb41b14cdbc12e63ccf7e48ea695571d9638d65f4710442c, content: ' The success of The Hobbit marked Tolkien’s emergence as a prominent author, and his creation of Mid...', meta: {'file_path': '/Users/simonamazzarino/Documents/Clearbox-repo/clearbox-ai-academy/RAG_Course/data/tolkien.txt', 'source_id': '95729082efb874f6adbd167b40d517e72164716f13b409e93ef114cbc81fcb5d', 'page_number': 1, 'split_id': 26, 'split_idx_start': 4073}, score: 0.8229656, embedding: vector of size 384),\n",
       "   Document(id=479e353961c286fdec862662a8583cfd5999a38142443a94205422ba09d896a3, content: 'The success of The Hobbit marked Tolkien’s emergence as a prominent author, and his creation of Midd...', meta: {'file_path': 'tolkien.txt', 'source_id': 'df36a6e19f29965789bd0aec4f23afb6cfe4436938474a5242b204a2fc777eb6', 'page_number': 1, 'split_id': 25, 'split_idx_start': 4074}, score: 0.8229656, embedding: vector of size 384),\n",
       "   Document(id=12d58a5cd7dc9c2049caa0826faf2a766b66f76b524855c7565f43ee94d2feaf, content: ' This dedication to creating a fully realized world set Tolkien apart from other fantasy authors and...', meta: {'file_path': '/Users/simonamazzarino/Documents/Clearbox-repo/clearbox-ai-academy/RAG_Course/data/tolkien.txt', 'source_id': '95729082efb874f6adbd167b40d517e72164716f13b409e93ef114cbc81fcb5d', 'page_number': 1, 'split_id': 34, 'split_idx_start': 5447}, score: 0.78466177, embedding: vector of size 384),\n",
       "   Document(id=4d01aa35de402ba9390ae28b9e8fd9432251812b7a3591bae3b5e2cd8ed14c8e, content: 'This dedication to creating a fully realized world set Tolkien apart from other fantasy authors and ...', meta: {'file_path': 'tolkien.txt', 'source_id': 'df36a6e19f29965789bd0aec4f23afb6cfe4436938474a5242b204a2fc777eb6', 'page_number': 1, 'split_id': 33, 'split_idx_start': 5448}, score: 0.78466177, embedding: vector of size 384),\n",
       "   Document(id=813856e5e1fe71c49740e9c36be74ac5f6a99c2dbd8e55f9249a586fe1cad601, content: ' Middle-earth is a place of intricate detail, with its own languages, cultures, histories, and mytho...', meta: {'file_path': '/Users/simonamazzarino/Documents/Clearbox-repo/clearbox-ai-academy/RAG_Course/data/tolkien.txt', 'source_id': '95729082efb874f6adbd167b40d517e72164716f13b409e93ef114cbc81fcb5d', 'page_number': 1, 'split_id': 32, 'split_idx_start': 5132}, score: 0.75878084, embedding: vector of size 384)]},\n",
       " 'expander': {'queries': ['J.R.R. Tolkien works',\n",
       "   \"Tolkien's literary contributions\",\n",
       "   'Middle-earth creator',\n",
       "   \"Tolkien's influence on fantasy literature\",\n",
       "   \"Tolkien's novels\",\n",
       "   'Tolkien']}}"
      ]
     },
     "execution_count": 34,
     "metadata": {},
     "output_type": "execute_result"
    }
   ],
   "source": [
    "expanded_retrieval_pipeline.run({\"expander\": {\"query\": query}}, include_outputs_from=[\"expander\"])"
   ]
  },
  {
   "cell_type": "markdown",
   "metadata": {
    "id": "TYwbeS1-zIt5"
   },
   "source": [
    "## Query Expansion for RAG"
   ]
  },
  {
   "cell_type": "markdown",
   "metadata": {
    "id": "oR-lZeyrzY3M"
   },
   "source": [
    "### RAG without Query Expansion"
   ]
  },
  {
   "cell_type": "code",
   "execution_count": 35,
   "metadata": {
    "colab": {
     "base_uri": "https://localhost:8080/"
    },
    "id": "erV3yIS5n9GE",
    "outputId": "788c89b6-b603-4000-fb7c-b2bd4573e01f"
   },
   "outputs": [
    {
     "data": {
      "text/plain": [
       "<haystack.core.pipeline.pipeline.Pipeline object at 0x1580bb410>\n",
       "🚅 Components\n",
       "  - embedder: SentenceTransformersTextEmbedder\n",
       "  - retriever: ElasticsearchEmbeddingRetriever\n",
       "  - prompt: PromptBuilder\n",
       "  - llm: OpenAIGenerator\n",
       "🛤️ Connections\n",
       "  - embedder.embedding -> retriever.query_embedding (List[float])\n",
       "  - retriever.documents -> prompt.documents (List[Document])\n",
       "  - prompt.prompt -> llm.prompt (str)"
      ]
     },
     "execution_count": 35,
     "metadata": {},
     "output_type": "execute_result"
    }
   ],
   "source": [
    "template = \"\"\"\n",
    "You are part of an information system that summarises related documents.\n",
    "You answer a query using the textual content from the documents retrieved for the\n",
    "following query.\n",
    "\n",
    "You should reference the documents you used to support your answer.\n",
    "###\n",
    "Original Query: \"{{query}}\"\n",
    "Retrieved Documents: {{documents}}\n",
    "Summary Answer:\n",
    "\"\"\"\n",
    "embedder = SentenceTransformersTextEmbedder(\"sentence-transformers/all-MiniLM-L6-v2\")\n",
    "retriever = ElasticsearchEmbeddingRetriever(document_store=document_store, top_k = 3)\n",
    "prompt_builder = PromptBuilder(template = template)\n",
    "llm = OpenAIGenerator(api_key=Secret.from_token(OPENAI_API_TOKEN))\n",
    "\n",
    "rag_pipeline = Pipeline()\n",
    "rag_pipeline.add_component(\"embedder\", embedder)\n",
    "rag_pipeline.add_component(\"retriever\", retriever)\n",
    "rag_pipeline.add_component(\"prompt\", prompt_builder)\n",
    "rag_pipeline.add_component(\"llm\", llm)\n",
    "\n",
    "rag_pipeline.connect(\"embedder.embedding\", \"retriever.query_embedding\")\n",
    "rag_pipeline.connect(\"retriever.documents\", \"prompt.documents\")\n",
    "rag_pipeline.connect(\"prompt\", \"llm\")"
   ]
  },
  {
   "cell_type": "code",
   "execution_count": 36,
   "metadata": {
    "colab": {
     "base_uri": "https://localhost:8080/"
    },
    "id": "UD03G6MQoDhV",
    "outputId": "10dc9b16-4d13-455b-f5a6-e09b97c9d835"
   },
   "outputs": [
    {
     "data": {
      "application/vnd.jupyter.widget-view+json": {
       "model_id": "6e6f0044a56d40b9abaf4182945d24d0",
       "version_major": 2,
       "version_minor": 0
      },
      "text/plain": [
       "Batches:   0%|          | 0/1 [00:00<?, ?it/s]"
      ]
     },
     "metadata": {},
     "output_type": "display_data"
    },
    {
     "data": {
      "text/html": [
       "<pre style=\"white-space:pre;overflow-x:auto;line-height:normal;font-family:Menlo,'DejaVu Sans Mono',consolas,'Courier New',monospace\"><span style=\"font-weight: bold\">[</span>\n",
       "    <span style=\"color: #008000; text-decoration-color: #008000\">'The retrieved documents highlight the significance of J.R.R. Tolkien as a prominent author, particularly </span>\n",
       "<span style=\"color: #008000; text-decoration-color: #008000\">noting his emergence in the literary world following the success of \"The Hobbit.\" This work not only established </span>\n",
       "<span style=\"color: #008000; text-decoration-color: #008000\">his reputation but also set the stage for his later creations. Tolkien is often discussed alongside other notable </span>\n",
       "<span style=\"color: #008000; text-decoration-color: #008000\">authors such as Robert E. Howard and H.P. Lovecraft, indicating his influence in the realm of fantasy literature </span>\n",
       "<span style=\"color: #008000; text-decoration-color: #008000\">(Document id: 26f10b9b6260fd744f1a96e86080d0e204ab9b742c6a7c721e7aa79f86686898).\\n\\nIn more detail, the success of </span>\n",
       "<span style=\"color: #008000; text-decoration-color: #008000\">\"The Hobbit\" is described as a pivotal moment in Tolkien\\'s career, leading to his recognition and the eventual </span>\n",
       "<span style=\"color: #008000; text-decoration-color: #008000\">development of the richly imagined world of Middle-earth, which has captivated readers for generations (Documents </span>\n",
       "<span style=\"color: #008000; text-decoration-color: #008000\">id: 5c477bd7b54b6917fb41b14cdbc12e63ccf7e48ea695571d9638d65f4710442c and </span>\n",
       "<span style=\"color: #008000; text-decoration-color: #008000\">479e353961c286fdec862662a8583cfd5999a38142443a94205422ba09d896a3).\\n\\nThis information indicates Tolkien’s </span>\n",
       "<span style=\"color: #008000; text-decoration-color: #008000\">influential role in the genre and his lasting legacy in literature.'</span>\n",
       "<span style=\"font-weight: bold\">]</span>\n",
       "</pre>\n"
      ],
      "text/plain": [
       "\u001b[1m[\u001b[0m\n",
       "    \u001b[32m'The retrieved documents highlight the significance of J.R.R. Tolkien as a prominent author, particularly \u001b[0m\n",
       "\u001b[32mnoting his emergence in the literary world following the success of \"The Hobbit.\" This work not only established \u001b[0m\n",
       "\u001b[32mhis reputation but also set the stage for his later creations. Tolkien is often discussed alongside other notable \u001b[0m\n",
       "\u001b[32mauthors such as Robert E. Howard and H.P. Lovecraft, indicating his influence in the realm of fantasy literature \u001b[0m\n",
       "\u001b[32m(\u001b[0m\u001b[32mDocument id: 26f10b9b6260fd744f1a96e86080d0e204ab9b742c6a7c721e7aa79f86686898\u001b[0m\u001b[32m)\u001b[0m\u001b[32m.\\n\\nIn more detail, the success of \u001b[0m\n",
       "\u001b[32m\"The Hobbit\" is described as a pivotal moment in Tolkien\\'s career, leading to his recognition and the eventual \u001b[0m\n",
       "\u001b[32mdevelopment of the richly imagined world of Middle-earth, which has captivated readers for generations \u001b[0m\u001b[32m(\u001b[0m\u001b[32mDocuments \u001b[0m\n",
       "\u001b[32mid: 5c477bd7b54b6917fb41b14cdbc12e63ccf7e48ea695571d9638d65f4710442c and \u001b[0m\n",
       "\u001b[32m479e353961c286fdec862662a8583cfd5999a38142443a94205422ba09d896a3\u001b[0m\u001b[32m)\u001b[0m\u001b[32m.\\n\\nThis information indicates Tolkien’s \u001b[0m\n",
       "\u001b[32minfluential role in the genre and his lasting legacy in literature.'\u001b[0m\n",
       "\u001b[1m]\u001b[0m\n"
      ]
     },
     "metadata": {},
     "output_type": "display_data"
    }
   ],
   "source": [
    "query = \"Tolkien\"\n",
    "res = rag_pipeline.run({\"embedder\": {\"text\": query}, \"retriever\": {\"top_k\": 3}}, include_outputs_from=[\"retriever\"])\n",
    "rich.print(res[\"llm\"][\"replies\"])"
   ]
  },
  {
   "cell_type": "markdown",
   "metadata": {
    "id": "MRx9_9pzzcxo"
   },
   "source": [
    "### RAG with Query Expansion"
   ]
  },
  {
   "cell_type": "code",
   "execution_count": 39,
   "metadata": {
    "colab": {
     "base_uri": "https://localhost:8080/"
    },
    "id": "gA6-RvHdn8pT",
    "outputId": "7ba03184-cba0-4882-cae3-4909eeea6a6a"
   },
   "outputs": [
    {
     "data": {
      "text/plain": [
       "<haystack.core.pipeline.pipeline.Pipeline object at 0x108201750>\n",
       "🚅 Components\n",
       "  - expander: QueryExpander\n",
       "  - retriever: MultiQueryElasticsearchEmbeddingRetriever\n",
       "  - prompt: PromptBuilder\n",
       "  - llm: OpenAIGenerator\n",
       "🛤️ Connections\n",
       "  - expander.queries -> retriever.queries (List[str])\n",
       "  - retriever.documents -> prompt.documents (List[Document])\n",
       "  - prompt.prompt -> llm.prompt (str)"
      ]
     },
     "execution_count": 39,
     "metadata": {},
     "output_type": "execute_result"
    }
   ],
   "source": [
    "template = \"\"\"\n",
    "You are part of an information system that summarises related documents.\n",
    "You answer a query using the textual content from the documents retrieved for the\n",
    "following query.\n",
    "\n",
    "You should reference the documents you used to support your answer.\n",
    "###\n",
    "Original Query: \"{{query}}\"\n",
    "Retrieved Documents: {{documents}}\n",
    "Summary Answer:\n",
    "\"\"\"\n",
    "expander = QueryExpander(open_ai_key=Secret.from_token(OPENAI_API_TOKEN))\n",
    "query_retriever = MultiQueryElasticsearchEmbeddingRetriever(ElasticsearchEmbeddingRetriever(document_store=document_store, top_k = 5))\n",
    "prompt_builder = PromptBuilder(template = template)\n",
    "llm = OpenAIGenerator(api_key=Secret.from_token(OPENAI_API_TOKEN))\n",
    "\n",
    "query_expanded_rag_pipeline = Pipeline()\n",
    "query_expanded_rag_pipeline.add_component(\"expander\", expander)\n",
    "query_expanded_rag_pipeline.add_component(\"retriever\", query_retriever)\n",
    "query_expanded_rag_pipeline.add_component(\"prompt\", prompt_builder)\n",
    "query_expanded_rag_pipeline.add_component(\"llm\", llm)\n",
    "\n",
    "query_expanded_rag_pipeline.connect(\"expander.queries\", \"retriever.queries\")\n",
    "query_expanded_rag_pipeline.connect(\"retriever.documents\", \"prompt.documents\")\n",
    "query_expanded_rag_pipeline.connect(\"prompt\", \"llm\")"
   ]
  },
  {
   "cell_type": "code",
   "execution_count": 40,
   "metadata": {
    "colab": {
     "base_uri": "https://localhost:8080/",
     "height": 1000
    },
    "id": "OPgfePQw6SGn",
    "outputId": "d7231d48-ef64-4a8e-ab45-bcfc2ff15936"
   },
   "outputs": [
    {
     "data": {
      "image/png": "[encoded data removed]",
      "text/plain": [
       "<IPython.core.display.Image object>"
      ]
     },
     "metadata": {},
     "output_type": "display_data"
    }
   ],
   "source": [
    "query_expanded_rag_pipeline.show()"
   ]
  },
  {
   "cell_type": "code",
   "execution_count": 46,
   "metadata": {
    "colab": {
     "base_uri": "https://localhost:8080/"
    },
    "id": "qfdrTpZijsnv",
    "outputId": "e22e6e34-1f06-4c7f-8bd7-473dc3654542"
   },
   "outputs": [
    {
     "data": {
      "application/vnd.jupyter.widget-view+json": {
       "model_id": "16517f12154c447686c87a0b6f948d06",
       "version_major": 2,
       "version_minor": 0
      },
      "text/plain": [
       "Batches:   0%|          | 0/1 [00:00<?, ?it/s]"
      ]
     },
     "metadata": {},
     "output_type": "display_data"
    },
    {
     "data": {
      "application/vnd.jupyter.widget-view+json": {
       "model_id": "6c2a32c46c8b4049b1b99bd99a33b8e9",
       "version_major": 2,
       "version_minor": 0
      },
      "text/plain": [
       "Batches:   0%|          | 0/1 [00:00<?, ?it/s]"
      ]
     },
     "metadata": {},
     "output_type": "display_data"
    },
    {
     "data": {
      "application/vnd.jupyter.widget-view+json": {
       "model_id": "6ef900fc2f9847119a5b0f8d57f0cee9",
       "version_major": 2,
       "version_minor": 0
      },
      "text/plain": [
       "Batches:   0%|          | 0/1 [00:00<?, ?it/s]"
      ]
     },
     "metadata": {},
     "output_type": "display_data"
    },
    {
     "data": {
      "application/vnd.jupyter.widget-view+json": {
       "model_id": "167a7d91101e4e3dace2c179c355efa8",
       "version_major": 2,
       "version_minor": 0
      },
      "text/plain": [
       "Batches:   0%|          | 0/1 [00:00<?, ?it/s]"
      ]
     },
     "metadata": {},
     "output_type": "display_data"
    },
    {
     "data": {
      "application/vnd.jupyter.widget-view+json": {
       "model_id": "b82dfb50f8434a808c570b2bbcfdf909",
       "version_major": 2,
       "version_minor": 0
      },
      "text/plain": [
       "Batches:   0%|          | 0/1 [00:00<?, ?it/s]"
      ]
     },
     "metadata": {},
     "output_type": "display_data"
    },
    {
     "data": {
      "application/vnd.jupyter.widget-view+json": {
       "model_id": "1e0b12e1984b4bbf80c566134967d1d0",
       "version_major": 2,
       "version_minor": 0
      },
      "text/plain": [
       "Batches:   0%|          | 0/1 [00:00<?, ?it/s]"
      ]
     },
     "metadata": {},
     "output_type": "display_data"
    },
    {
     "data": {
      "text/html": [
       "<pre style=\"white-space:pre;overflow-x:auto;line-height:normal;font-family:Menlo,'DejaVu Sans Mono',consolas,'Courier New',monospace\"><span style=\"font-weight: bold\">[</span>\n",
       "    <span style=\"color: #008000; text-decoration-color: #008000\">'J.R.R. Tolkien is celebrated for his remarkable contributions to the fantasy genre, particularly through his </span>\n",
       "<span style=\"color: #008000; text-decoration-color: #008000\">creation of the intricate world of Middle-earth. His dedication to constructing a fully realized universe, complete</span>\n",
       "<span style=\"color: #008000; text-decoration-color: #008000\">with its own languages, cultures, and histories, distinguishes him from other authors. This level of detail is </span>\n",
       "<span style=\"color: #008000; text-decoration-color: #008000\">exemplified in his novels, notably \"The Hobbit\" and \"The Lord of the Rings,\" which not only captivated readers but </span>\n",
       "<span style=\"color: #008000; text-decoration-color: #008000\">also set the foundation for modern fantasy storytelling (Document </span>\n",
       "<span style=\"color: #008000; text-decoration-color: #008000\">id=12d58a5cd7dc9c2049caa0826faf2a766b66f76b524855c7565f43ee94d2feaf; Document </span>\n",
       "<span style=\"color: #008000; text-decoration-color: #008000\">id=4d01aa35de402ba9390ae28b9e8fd9432251812b7a3591bae3b5e2cd8ed14c8e).\\n\\nThe success of \"The Hobbit,\" published in </span>\n",
       "<span style=\"color: #008000; text-decoration-color: #008000\">1937, marked Tolkien\\'s emergence as a significant literary figure and introduced readers to the enchanting world </span>\n",
       "<span style=\"color: #008000; text-decoration-color: #008000\">of Middle-earth (Document id=5c477bd7b54b6917fb41b14cdbc12e63ccf7e48ea695571d9638d65f4710442c; Document </span>\n",
       "<span style=\"color: #008000; text-decoration-color: #008000\">id=3344c84fdd11e11ab791cb4e768c3c2e9cc8a548bda1f92fa0d2bfabf67e02bb). Despite facing criticism from some literary </span>\n",
       "<span style=\"color: #008000; text-decoration-color: #008000\">circles who dismissed fantasy as less serious, Tolkien persisted in his craft, ultimately gaining recognition as a </span>\n",
       "<span style=\"color: #008000; text-decoration-color: #008000\">master storyteller and myth-maker (Document id=bd9a33cafb670f9e79c4c24ef3d76afcf75f0ca9cac23f6ef38916c77531a025; </span>\n",
       "<span style=\"color: #008000; text-decoration-color: #008000\">Document id=26a81bf514c9ef89416fcd0be97cffadf9d906200bfb57edc85b21eeadbd764b).\\n\\nIn addition to his novels, </span>\n",
       "<span style=\"color: #008000; text-decoration-color: #008000\">Tolkien also engaged with his audience through essays and letters, discussing his creative process and the </span>\n",
       "<span style=\"color: #008000; text-decoration-color: #008000\">influences on his work (Document id=cab8dca864050a6088d187555505f8700bdc78fd0ccdfbc85d54f37a3b5622cb; Document </span>\n",
       "<span style=\"color: #008000; text-decoration-color: #008000\">id=a71ed6b1521657afac5e2858c2a2fd29a57b063726a76996366578ff0dae859d). His legacy continues through various </span>\n",
       "<span style=\"color: #008000; text-decoration-color: #008000\">adaptations of his works and the lasting impact he has had on the fantasy genre.'</span>\n",
       "<span style=\"font-weight: bold\">]</span>\n",
       "</pre>\n"
      ],
      "text/plain": [
       "\u001b[1m[\u001b[0m\n",
       "    \u001b[32m'J.R.R. Tolkien is celebrated for his remarkable contributions to the fantasy genre, particularly through his \u001b[0m\n",
       "\u001b[32mcreation of the intricate world of Middle-earth. His dedication to constructing a fully realized universe, complete\u001b[0m\n",
       "\u001b[32mwith its own languages, cultures, and histories, distinguishes him from other authors. This level of detail is \u001b[0m\n",
       "\u001b[32mexemplified in his novels, notably \"The Hobbit\" and \"The Lord of the Rings,\" which not only captivated readers but \u001b[0m\n",
       "\u001b[32malso set the foundation for modern fantasy storytelling \u001b[0m\u001b[32m(\u001b[0m\u001b[32mDocument \u001b[0m\n",
       "\u001b[32mid\u001b[0m\u001b[32m=\u001b[0m\u001b[32m12d58a5cd7dc9c2049caa0826faf2a766b66f76b524855c7565f43ee94d2feaf\u001b[0m\u001b[32m; Document \u001b[0m\n",
       "\u001b[32mid\u001b[0m\u001b[32m=\u001b[0m\u001b[32m4d01aa35de402ba9390ae28b9e8fd9432251812b7a3591bae3b5e2cd8ed14c8e\u001b[0m\u001b[32m)\u001b[0m\u001b[32m.\\n\\nThe success of \"The Hobbit,\" published in \u001b[0m\n",
       "\u001b[32m1937, marked Tolkien\\'s emergence as a significant literary figure and introduced readers to the enchanting world \u001b[0m\n",
       "\u001b[32mof Middle-earth \u001b[0m\u001b[32m(\u001b[0m\u001b[32mDocument \u001b[0m\u001b[32mid\u001b[0m\u001b[32m=\u001b[0m\u001b[32m5c477bd7b54b6917fb41b14cdbc12e63ccf7e48ea695571d9638d65f4710442c\u001b[0m\u001b[32m; Document \u001b[0m\n",
       "\u001b[32mid\u001b[0m\u001b[32m=\u001b[0m\u001b[32m3344c84fdd11e11ab791cb4e768c3c2e9cc8a548bda1f92fa0d2bfabf67e02bb\u001b[0m\u001b[32m)\u001b[0m\u001b[32m. Despite facing criticism from some literary \u001b[0m\n",
       "\u001b[32mcircles who dismissed fantasy as less serious, Tolkien persisted in his craft, ultimately gaining recognition as a \u001b[0m\n",
       "\u001b[32mmaster storyteller and myth-maker \u001b[0m\u001b[32m(\u001b[0m\u001b[32mDocument \u001b[0m\u001b[32mid\u001b[0m\u001b[32m=\u001b[0m\u001b[32mbd9a33cafb670f9e79c4c24ef3d76afcf75f0ca9cac23f6ef38916c77531a025\u001b[0m\u001b[32m; \u001b[0m\n",
       "\u001b[32mDocument \u001b[0m\u001b[32mid\u001b[0m\u001b[32m=\u001b[0m\u001b[32m26a81bf514c9ef89416fcd0be97cffadf9d906200bfb57edc85b21eeadbd764b\u001b[0m\u001b[32m)\u001b[0m\u001b[32m.\\n\\nIn addition to his novels, \u001b[0m\n",
       "\u001b[32mTolkien also engaged with his audience through essays and letters, discussing his creative process and the \u001b[0m\n",
       "\u001b[32minfluences on his work \u001b[0m\u001b[32m(\u001b[0m\u001b[32mDocument \u001b[0m\u001b[32mid\u001b[0m\u001b[32m=\u001b[0m\u001b[32mcab8dca864050a6088d187555505f8700bdc78fd0ccdfbc85d54f37a3b5622cb\u001b[0m\u001b[32m; Document \u001b[0m\n",
       "\u001b[32mid\u001b[0m\u001b[32m=\u001b[0m\u001b[32ma71ed6b1521657afac5e2858c2a2fd29a57b063726a76996366578ff0dae859d\u001b[0m\u001b[32m)\u001b[0m\u001b[32m. His legacy continues through various \u001b[0m\n",
       "\u001b[32madaptations of his works and the lasting impact he has had on the fantasy genre.'\u001b[0m\n",
       "\u001b[1m]\u001b[0m\n"
      ]
     },
     "metadata": {},
     "output_type": "display_data"
    },
    {
     "name": "stdout",
     "output_type": "stream",
     "text": [
      "Expander:  {'queries': ['J.R.R. Tolkien', 'Middle-earth', 'The Lord of the Rings', 'Hobbit author', 'fantasy literature by Tolkien', 'Tolkien']}\n",
      "Retriver:  {'documents': [Document(id=12d58a5cd7dc9c2049caa0826faf2a766b66f76b524855c7565f43ee94d2feaf, content: ' This dedication to creating a fully realized world set Tolkien apart from other fantasy authors and...', meta: {'file_path': '/Users/simonamazzarino/Documents/Clearbox-repo/clearbox-ai-academy/RAG_Course/data/tolkien.txt', 'source_id': '95729082efb874f6adbd167b40d517e72164716f13b409e93ef114cbc81fcb5d', 'page_number': 1, 'split_id': 34, 'split_idx_start': 5447}, score: 0.8846303, embedding: vector of size 384), Document(id=4d01aa35de402ba9390ae28b9e8fd9432251812b7a3591bae3b5e2cd8ed14c8e, content: 'This dedication to creating a fully realized world set Tolkien apart from other fantasy authors and ...', meta: {'file_path': 'tolkien.txt', 'source_id': 'df36a6e19f29965789bd0aec4f23afb6cfe4436938474a5242b204a2fc777eb6', 'page_number': 1, 'split_id': 33, 'split_idx_start': 5448}, score: 0.8846303, embedding: vector of size 384), Document(id=8cef38d1c9e708cfa3beac03d5faf4f3f881fd37f78248f4f01a358cbb00288f, content: ' The cinematic adaptations of The Lord of the Rings and The Hobbit, directed by Peter Jackson, intro...', meta: {'file_path': '/Users/simonamazzarino/Documents/Clearbox-repo/clearbox-ai-academy/RAG_Course/data/tolkien.txt', 'source_id': '95729082efb874f6adbd167b40d517e72164716f13b409e93ef114cbc81fcb5d', 'page_number': 1, 'split_id': 48, 'split_idx_start': 7370}, score: 0.87669617, embedding: vector of size 384), Document(id=b90b70783edb4a8db39e90644097662c2af37a5b53fe5ba16dc6705726005068, content: 'The cinematic adaptations of The Lord of the Rings and The Hobbit, directed by Peter Jackson, introd...', meta: {'file_path': 'tolkien.txt', 'source_id': 'df36a6e19f29965789bd0aec4f23afb6cfe4436938474a5242b204a2fc777eb6', 'page_number': 1, 'split_id': 46, 'split_idx_start': 7371}, score: 0.87669617, embedding: vector of size 384), Document(id=8b00db343f4cf2d12add69eb21fd7c1cb27f357215c0ed45dded212bf13265cf, content: '\n",
      "\n",
      "Encouraged by the success of The Hobbit, Tolkien embarked on his next, even more ambitious work, T...', meta: {'file_path': '/Users/simonamazzarino/Documents/Clearbox-repo/clearbox-ai-academy/RAG_Course/data/tolkien.txt', 'source_id': '95729082efb874f6adbd167b40d517e72164716f13b409e93ef114cbc81fcb5d', 'page_number': 1, 'split_id': 27, 'split_idx_start': 4273}, score: 0.86572945, embedding: vector of size 384), Document(id=bd9a33cafb670f9e79c4c24ef3d76afcf75f0ca9cac23f6ef38916c77531a025, content: '\n",
      "\n",
      "Despite his achievements, Tolkien faced criticism from some literary circles that dismissed fantas...', meta: {'file_path': '/Users/simonamazzarino/Documents/Clearbox-repo/clearbox-ai-academy/RAG_Course/data/tolkien.txt', 'source_id': '95729082efb874f6adbd167b40d517e72164716f13b409e93ef114cbc81fcb5d', 'page_number': 1, 'split_id': 44, 'split_idx_start': 6808}, score: 0.8648535, embedding: vector of size 384), Document(id=9f1b29178239d94a77c382f0fe4e3c720212248815e8746132c6dc6471aab535, content: 'Despite his achievements, Tolkien faced criticism from some literary circles that dismissed fantasy ...', meta: {'file_path': 'tolkien.txt', 'source_id': 'df36a6e19f29965789bd0aec4f23afb6cfe4436938474a5242b204a2fc777eb6', 'page_number': 1, 'split_id': 42, 'split_idx_start': 6810}, score: 0.8648535, embedding: vector of size 384), Document(id=5c477bd7b54b6917fb41b14cdbc12e63ccf7e48ea695571d9638d65f4710442c, content: ' The success of The Hobbit marked Tolkien’s emergence as a prominent author, and his creation of Mid...', meta: {'file_path': '/Users/simonamazzarino/Documents/Clearbox-repo/clearbox-ai-academy/RAG_Course/data/tolkien.txt', 'source_id': '95729082efb874f6adbd167b40d517e72164716f13b409e93ef114cbc81fcb5d', 'page_number': 1, 'split_id': 26, 'split_idx_start': 4073}, score: 0.8611426, embedding: vector of size 384), Document(id=cab8dca864050a6088d187555505f8700bdc78fd0ccdfbc85d54f37a3b5622cb, content: '\n",
      "\n",
      "In addition to his novels, Tolkien wrote essays and letters in which he discussed his creative pro...', meta: {'file_path': '/Users/simonamazzarino/Documents/Clearbox-repo/clearbox-ai-academy/RAG_Course/data/tolkien.txt', 'source_id': '95729082efb874f6adbd167b40d517e72164716f13b409e93ef114cbc81fcb5d', 'page_number': 1, 'split_id': 35, 'split_idx_start': 5640}, score: 0.85721004, embedding: vector of size 384), Document(id=a71ed6b1521657afac5e2858c2a2fd29a57b063726a76996366578ff0dae859d, content: 'In addition to his novels, Tolkien wrote essays and letters in which he discussed his creative proce...', meta: {'file_path': 'tolkien.txt', 'source_id': 'df36a6e19f29965789bd0aec4f23afb6cfe4436938474a5242b204a2fc777eb6', 'page_number': 1, 'split_id': 34, 'split_idx_start': 5642}, score: 0.85721004, embedding: vector of size 384), Document(id=813856e5e1fe71c49740e9c36be74ac5f6a99c2dbd8e55f9249a586fe1cad601, content: ' Middle-earth is a place of intricate detail, with its own languages, cultures, histories, and mytho...', meta: {'file_path': '/Users/simonamazzarino/Documents/Clearbox-repo/clearbox-ai-academy/RAG_Course/data/tolkien.txt', 'source_id': '95729082efb874f6adbd167b40d517e72164716f13b409e93ef114cbc81fcb5d', 'page_number': 1, 'split_id': 32, 'split_idx_start': 5132}, score: 0.85265, embedding: vector of size 384), Document(id=9b33f8f43a588aba238abe41e0d06eccb58b57c738565358ba609465fa0c956e, content: 'Middle-earth is a place of intricate detail, with its own languages, cultures, histories, and mythol...', meta: {'file_path': 'tolkien.txt', 'source_id': 'df36a6e19f29965789bd0aec4f23afb6cfe4436938474a5242b204a2fc777eb6', 'page_number': 1, 'split_id': 31, 'split_idx_start': 5133}, score: 0.85265, embedding: vector of size 384), Document(id=26f10b9b6260fd744f1a96e86080d0e204ab9b742c6a7c721e7aa79f86686898, content: 'Tolkien, Robert E. Howard, and H.P. ', meta: {'file_path': 'George_RR_Martin.txt', 'source_id': '1a887948105eaf886872a4f453d6b11e978d08ab88f93bed6ff71f4d318a2c7a', 'page_number': 1, 'split_id': 5, 'split_idx_start': 819}, score: 0.8447093, embedding: vector of size 384), Document(id=411302392105e05f49fca41767751c25c1ecd32a8348b168b6b8ee7041a9025b, content: ' This creative circle played a significant role in the development of The Lord of the Rings and fost...', meta: {'file_path': '/Users/simonamazzarino/Documents/Clearbox-repo/clearbox-ai-academy/RAG_Course/data/tolkien.txt', 'source_id': '95729082efb874f6adbd167b40d517e72164716f13b409e93ef114cbc81fcb5d', 'page_number': 1, 'split_id': 43, 'split_idx_start': 6643}, score: 0.83715355, embedding: vector of size 384), Document(id=f4530333ec5684d00d12232bb3e32d3d95b49090683d6d122ac4a8d61ed38f7f, content: ' This epic story resonated with readers around the world and established Tolkien as a master of stor...', meta: {'file_path': '/Users/simonamazzarino/Documents/Clearbox-repo/clearbox-ai-academy/RAG_Course/data/tolkien.txt', 'source_id': '95729082efb874f6adbd167b40d517e72164716f13b409e93ef114cbc81fcb5d', 'page_number': 1, 'split_id': 30, 'split_idx_start': 4830}, score: 0.8269385, embedding: vector of size 384), Document(id=75ad47ea6b42aedc8eafaef9435757862fad0acef4bb6eaef7ebc74eaf468643, content: 'This epic story resonated with readers around the world and established Tolkien as a master of story...', meta: {'file_path': 'tolkien.txt', 'source_id': 'df36a6e19f29965789bd0aec4f23afb6cfe4436938474a5242b204a2fc777eb6', 'page_number': 1, 'split_id': 29, 'split_idx_start': 4831}, score: 0.8269385, embedding: vector of size 384), Document(id=4db796e36bf997d5b6962fb24e58b14064b0d001778edfe8caf9f8db3fdd041b, content: 'John Ronald Reuel Tolkien, born on January 3, 1892, in Bloemfontein, South Africa, is widely regarde...', meta: {'file_path': '/Users/simonamazzarino/Documents/Clearbox-repo/clearbox-ai-academy/RAG_Course/data/tolkien.txt', 'source_id': '95729082efb874f6adbd167b40d517e72164716f13b409e93ef114cbc81fcb5d', 'page_number': 1, 'split_id': 0, 'split_idx_start': 0}, score: 0.8264297, embedding: vector of size 384), Document(id=d97216d59bcf5d059a9ee86a9213080713f2ef1ad1a1c4be477c3d66bdbdec36, content: 'John Ronald Reuel Tolkien, born on January 3, 1892, in Bloemfontein, South Africa, is widely regarde...', meta: {'file_path': 'tolkien.txt', 'source_id': 'df36a6e19f29965789bd0aec4f23afb6cfe4436938474a5242b204a2fc777eb6', 'page_number': 1, 'split_id': 0, 'split_idx_start': 0}, score: 0.8264297, embedding: vector of size 384), Document(id=c9d02f13a39d24ee9fdd8f6a11eb5d06f024b32fd82e9293da8b1b2ac2388e00, content: '\n",
      "\n",
      "Tolkien’s legacy endures today, not only through his novels but also through the myriad adaptation...', meta: {'file_path': '/Users/simonamazzarino/Documents/Clearbox-repo/clearbox-ai-academy/RAG_Course/data/tolkien.txt', 'source_id': '95729082efb874f6adbd167b40d517e72164716f13b409e93ef114cbc81fcb5d', 'page_number': 1, 'split_id': 47, 'split_idx_start': 7236}, score: 0.82617414, embedding: vector of size 384), Document(id=26a81bf514c9ef89416fcd0be97cffadf9d906200bfb57edc85b21eeadbd764b, content: ' Tolkien saw himself not merely as an author, but as a myth-maker, drawing on ancient storytelling t...', meta: {'file_path': '/Users/simonamazzarino/Documents/Clearbox-repo/clearbox-ai-academy/RAG_Course/data/tolkien.txt', 'source_id': '95729082efb874f6adbd167b40d517e72164716f13b409e93ef114cbc81fcb5d', 'page_number': 1, 'split_id': 38, 'split_idx_start': 6135}, score: 0.8235539, embedding: vector of size 384), Document(id=479e353961c286fdec862662a8583cfd5999a38142443a94205422ba09d896a3, content: 'The success of The Hobbit marked Tolkien’s emergence as a prominent author, and his creation of Midd...', meta: {'file_path': 'tolkien.txt', 'source_id': 'df36a6e19f29965789bd0aec4f23afb6cfe4436938474a5242b204a2fc777eb6', 'page_number': 1, 'split_id': 25, 'split_idx_start': 4074}, score: 0.82304543, embedding: vector of size 384), Document(id=3344c84fdd11e11ab791cb4e768c3c2e9cc8a548bda1f92fa0d2bfabf67e02bb, content: '\n",
      "\n",
      "Published in 1937, The Hobbit introduced readers to the magical world of Middle-earth and its dive...', meta: {'file_path': '/Users/simonamazzarino/Documents/Clearbox-repo/clearbox-ai-academy/RAG_Course/data/tolkien.txt', 'source_id': '95729082efb874f6adbd167b40d517e72164716f13b409e93ef114cbc81fcb5d', 'page_number': 1, 'split_id': 23, 'split_idx_start': 3671}, score: 0.8024262, embedding: vector of size 384)]}\n"
     ]
    }
   ],
   "source": [
    "query = \"Tolkien\"\n",
    "res = query_expanded_rag_pipeline.run({\"expander\": {\"query\": query}, \"retriever\": {\"top_k\": 3}}, include_outputs_from={\"retriever\", \"expander\"})\n",
    "\n",
    "rich.print(res['llm']['replies'])\n",
    "print(\"Expander: \", res['expander'])\n",
    "print(\"Retriver: \", res['retriever'])"
   ]
  },
  {
   "cell_type": "code",
   "execution_count": null,
   "metadata": {},
   "outputs": [],
   "source": []
  }
 ],
 "metadata": {
  "colab": {
   "provenance": []
  },
  "kernelspec": {
   "display_name": "Python 3",
   "name": "python3"
  },
  "language_info": {
   "codemirror_mode": {
    "name": "ipython",
    "version": 3
   },
   "file_extension": ".py",
   "mimetype": "text/x-python",
   "name": "python",
   "nbconvert_exporter": "python",
   "pygments_lexer": "ipython3",
   "version": "3.11.2"
  }
 },
 "nbformat": 4,
 "nbformat_minor": 0
}
