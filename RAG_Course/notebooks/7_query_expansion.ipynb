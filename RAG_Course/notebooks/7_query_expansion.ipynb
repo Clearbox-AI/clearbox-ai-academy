{
 "cells": [
  {
   "cell_type": "markdown",
   "metadata": {
    "id": "PwkLlhmsoqnB"
   },
   "source": [
    "# Query Expansion\n",
    "Query expansion consists of asking an LLM to produce a number of similar queries to a user query. We are then able to use each of these queries in the retrieval process, increasing the number and relevance of retrieved documents.\n"
   ]
  },
  {
   "cell_type": "code",
   "execution_count": 1,
   "metadata": {},
   "outputs": [],
   "source": [
    "import warnings\n",
    "warnings.filterwarnings('ignore')\n",
    "\n",
    "import os\n",
    "import rich\n",
    "\n",
    "from dotenv import load_dotenv\n",
    "\n",
    "load_dotenv()\n",
    "\n",
    "#HF_API_TOKEN = os.getenv(\"HF_API_TOKEN\")\n",
    "OPENAI_API_TOKEN = os.getenv(\"OPENAI_API_TOKEN\")"
   ]
  },
  {
   "cell_type": "markdown",
   "metadata": {},
   "source": [
    "For this notebook we will use an InMemoryDocumentStore with document imported from wikipedia"
   ]
  },
  {
   "cell_type": "code",
   "execution_count": 2,
   "metadata": {
    "id": "yrVx-gYoYf6Q"
   },
   "outputs": [],
   "source": [
    "import json\n",
    "\n",
    "from typing import List, Optional\n",
    "from haystack import Pipeline, component\n",
    "from haystack.components.builders import PromptBuilder\n",
    "from haystack.components.generators import OpenAIGenerator\n",
    "from haystack.dataclasses import Document\n",
    "\n",
    "from haystack.utils import Secret"
   ]
  },
  {
   "cell_type": "markdown",
   "metadata": {
    "id": "j4gDkMDCsbpQ"
   },
   "source": [
    "## The Process of Query Expansion\n",
    "\n",
    "First, let's create a `QueryExpander`. This component is going to be able to create a `number` (defaults to 5) of additional queries, similar to the original user query. It returns `queries` that has the original query + `number` of similar queries."
   ]
  },
  {
   "cell_type": "code",
   "execution_count": 13,
   "metadata": {
    "id": "qM5tZEnATjeN"
   },
   "outputs": [],
   "source": [
    "@component\n",
    "class QueryExpander:\n",
    "\n",
    "    def __init__(self, open_ai_key: str , prompt: Optional[str] = None, model: str = \"gpt-4o-mini\"):\n",
    "\n",
    "        self.query_expansion_prompt = prompt\n",
    "        self.model = model\n",
    "        self.open_ai_key = open_ai_key\n",
    "        if prompt == None:\n",
    "          self.query_expansion_prompt = \"\"\"\n",
    "          You are part of an information system that processes users queries.\n",
    "          You expand a given query into {{ number }} queries that are similar in meaning.\n",
    "\n",
    "          Structure:\n",
    "          Follow the structure shown below in examples to generate expanded queries.\n",
    "          Examples:\n",
    "          1. Example Query 1: \"climate change effects\"\n",
    "          Example Expanded Queries: [\"impact of climate change\", \"consequences of global warming\", \"effects of environmental changes\"]\n",
    "\n",
    "          2. Example Query 2: \"\"machine learning algorithms\"\"\n",
    "          Example Expanded Queries: [\"neural networks\", \"clustering\", \"supervised learning\", \"deep learning\"]\n",
    "\n",
    "          Your Task:\n",
    "          Query: \"{{query}}\"\n",
    "          Example Expanded Queries:\n",
    "          \"\"\"\n",
    "        builder = PromptBuilder(self.query_expansion_prompt)\n",
    "        llm = OpenAIGenerator(model = self.model, api_key = self.open_ai_key)\n",
    "        self.pipeline = Pipeline()\n",
    "        self.pipeline.add_component(name=\"builder\", instance=builder)\n",
    "        self.pipeline.add_component(name=\"llm\", instance=llm)\n",
    "        self.pipeline.connect(\"builder\", \"llm\")\n",
    "\n",
    "    @component.output_types(queries=List[str])\n",
    "    def run(self, query: str, number: int = 5):\n",
    "        result = self.pipeline.run({'builder': {'query': query, 'number': number}})\n",
    "        expanded_query = json.loads(result['llm']['replies'][0]) + [query]\n",
    "        return result, expanded_query, {\"queries\": list(expanded_query)}"
   ]
  },
  {
   "cell_type": "code",
   "execution_count": 17,
   "metadata": {},
   "outputs": [],
   "source": [
    "from haystack_integrations.document_stores.elasticsearch import ElasticsearchDocumentStore\n",
    "from haystack_integrations.components.retrievers.elasticsearch import ElasticsearchEmbeddingRetriever\n",
    "from haystack.components.embedders import SentenceTransformersTextEmbedder"
   ]
  },
  {
   "cell_type": "code",
   "execution_count": 18,
   "metadata": {},
   "outputs": [],
   "source": [
    "document_store = ElasticsearchDocumentStore(hosts = \"http://localhost:9200\")"
   ]
  },
  {
   "cell_type": "markdown",
   "metadata": {
    "id": "gsADarYUvurh"
   },
   "source": [
    "## Retrieval Without Query Expansion"
   ]
  },
  {
   "cell_type": "code",
   "execution_count": 35,
   "metadata": {},
   "outputs": [],
   "source": [
    "embedder = SentenceTransformersTextEmbedder(\"sentence-transformers/all-MiniLM-L6-v2\")\n",
    "retriever = ElasticsearchEmbeddingRetriever(document_store=document_store, top_k = 3)"
   ]
  },
  {
   "cell_type": "code",
   "execution_count": 36,
   "metadata": {},
   "outputs": [
    {
     "data": {
      "text/plain": [
       "<haystack.core.pipeline.pipeline.Pipeline object at 0x000001672A338390>\n",
       "🚅 Components\n",
       "  - query_embedder: SentenceTransformersTextEmbedder\n",
       "  - embedding_retriever: ElasticsearchEmbeddingRetriever\n",
       "🛤️ Connections\n",
       "  - query_embedder.embedding -> embedding_retriever.query_embedding (List[float])"
      ]
     },
     "execution_count": 36,
     "metadata": {},
     "output_type": "execute_result"
    }
   ],
   "source": [
    "retrieval_pipeline = Pipeline()\n",
    "retrieval_pipeline.add_component(\"query_embedder\", embedder)\n",
    "retrieval_pipeline.add_component(\"embedding_retriever\", retriever)\n",
    "\n",
    "retrieval_pipeline.connect(\"query_embedder.embedding\", \"embedding_retriever.query_embedding\")"
   ]
  },
  {
   "cell_type": "code",
   "execution_count": 38,
   "metadata": {
    "colab": {
     "base_uri": "https://localhost:8080/"
    },
    "id": "8j6a-BL9oI8E",
    "outputId": "3626d26f-a640-470a-d964-b083051c97ad"
   },
   "outputs": [
    {
     "name": "stderr",
     "output_type": "stream",
     "text": [
      "Batches: 100%|██████████| 1/1 [00:00<00:00,  5.07it/s]\n"
     ]
    },
    {
     "data": {
      "text/plain": [
       "{'embedding_retriever': {'documents': [Document(id=6f53b71ce1a8f2dfca90f2f97a7260b64c17d239e1bd80719a50158c814e6416, content: ' Tolkien’s commitment to creating a believable and immersive world sets him apart from other fantasy...', meta: {'file_path': 'data/tolkien.txt', 'source_id': 'b4dd8cf407a5c9917b7a435288375829a0f32fa11e2064c64fc88dedbbe906b5', 'page_number': 1, 'split_id': 24, 'split_idx_start': 3136}, score: 0.8195174, embedding: vector of size 384),\n",
       "   Document(id=abfcbed8a42e97badf0cc083137d25716117aa35777db1920d0ce61ce9d1c6a0, content: '\n",
       "   \n",
       "   Following the success of *The Hobbit*, Tolkien set out to expand his universe through the writin...', meta: {'file_path': 'data/tolkien.txt', 'source_id': 'b4dd8cf407a5c9917b7a435288375829a0f32fa11e2064c64fc88dedbbe906b5', 'page_number': 1, 'split_id': 17, 'split_idx_start': 2183}, score: 0.81605506, embedding: vector of size 384),\n",
       "   Document(id=69a67d2edd35fa3418aac24a2a2849b2b75f2a7d73741f255fb2e0f0619e08c6, content: '\n",
       "   \n",
       "   Tolkien's early exposure to nature and literature sparked a lifelong fascination with storytelli...', meta: {'file_path': 'data/tolkien.txt', 'source_id': 'b4dd8cf407a5c9917b7a435288375829a0f32fa11e2064c64fc88dedbbe906b5', 'page_number': 1, 'split_id': 5, 'split_idx_start': 647}, score: 0.81431806, embedding: vector of size 384)]}}"
      ]
     },
     "execution_count": 38,
     "metadata": {},
     "output_type": "execute_result"
    }
   ],
   "source": [
    "query = \"Tolkien\"\n",
    "retrieval_pipeline.run({\"query_embedder\":{ \"text\": query}, \"embedding_retriever\":{\"top_k\": 3}})"
   ]
  },
  {
   "cell_type": "markdown",
   "metadata": {
    "id": "ZpJ0juxX0J-B"
   },
   "source": [
    "## Retrieval With Query Expansion\n",
    "\n",
    "Now let's have a look at what documents we are able to retrieve if we are to inluce query expansion in the process. For this step, let's create a `MultiQueryElasticEmbeddingRetriever` that is able to use embedding retrieval for each (expansded) query in turn.\n",
    "\n",
    "This component also handles the same document being retrieved for multiple queries and will not return duplicates."
   ]
  },
  {
   "cell_type": "code",
   "execution_count": 83,
   "metadata": {
    "id": "6zZrkocErf3N"
   },
   "outputs": [],
   "source": [
    "@component\n",
    "class MultiQueryElasticsearchEmbeddingRetriever:\n",
    "\n",
    "    def __init__(self, retriever: ElasticsearchEmbeddingRetriever,  top_k: int = 3):\n",
    "        self.retriever = retriever\n",
    "        self.embedder = SentenceTransformersTextEmbedder(\"sentence-transformers/all-MiniLM-L6-v2\")\n",
    "        self.results = []\n",
    "        self.ids = set()\n",
    "        self.top_k = top_k\n",
    "\n",
    "        self.pipeline = Pipeline()\n",
    "        self.pipeline.add_component(name=\"embedder\", instance=self.embedder)\n",
    "        self.pipeline.add_component(name=\"retriever\", instance=self.retriever)\n",
    "        self.pipeline.connect(\"embedder\", \"retriever\")\n",
    "        \n",
    "\n",
    "    def add_document(self, document: Document):\n",
    "        if document.id not in self.ids:\n",
    "            self.results.append(document)\n",
    "            self.ids.add(document.id)\n",
    "\n",
    "    @component.output_types(documents=List[Document])\n",
    "    def run(self, queries: List[str], top_k: int = None):\n",
    "        if top_k != None:\n",
    "          self.top_k = top_k\n",
    "        for query in queries:\n",
    "          result = self.pipeline.run({\"embedder\": {'text':query}, \"retriever\": {\"top_k\": self.top_k}})\n",
    "          for doc in result['retriever']['documents']:\n",
    "            self.add_document(doc)\n",
    "        self.results.sort(key=lambda x: x.score, reverse=True)\n",
    "        return {\"documents\": self.results}"
   ]
  },
  {
   "cell_type": "code",
   "execution_count": 84,
   "metadata": {
    "colab": {
     "base_uri": "https://localhost:8080/"
    },
    "id": "EhL3bQTFoWDK",
    "outputId": "f6f51241-db88-4467-b534-ce9c7e40a0d7"
   },
   "outputs": [
    {
     "data": {
      "text/plain": [
       "<haystack.core.pipeline.pipeline.Pipeline object at 0x000001672A3EE990>\n",
       "🚅 Components\n",
       "  - expander: QueryExpander\n",
       "  - embedding_retriever: MultiQueryElasticsearchEmbeddingRetriever\n",
       "🛤️ Connections\n",
       "  - expander.queries -> embedding_retriever.queries (List[str])"
      ]
     },
     "execution_count": 84,
     "metadata": {},
     "output_type": "execute_result"
    }
   ],
   "source": [
    "query_expander = QueryExpander(open_ai_key=Secret.from_token(OPENAI_API_TOKEN))\n",
    "\n",
    "retriever = MultiQueryElasticsearchEmbeddingRetriever(ElasticsearchEmbeddingRetriever(document_store=document_store, top_k = 5))\n",
    "\n",
    "expanded_retrieval_pipeline = Pipeline()\n",
    "expanded_retrieval_pipeline.add_component(\"expander\", query_expander)\n",
    "expanded_retrieval_pipeline.add_component(\"embedding_retriever\", retriever)\n",
    "\n",
    "expanded_retrieval_pipeline.connect(\"expander.queries\", \"embedding_retriever.queries\")"
   ]
  },
  {
   "cell_type": "code",
   "execution_count": 85,
   "metadata": {
    "colab": {
     "base_uri": "https://localhost:8080/"
    },
    "id": "FJXF9nHYsym0",
    "outputId": "f6f2fc33-d6ec-4bca-f2ae-07fdc20f6d31"
   },
   "outputs": [
    {
     "name": "stderr",
     "output_type": "stream",
     "text": [
      "Batches: 100%|██████████| 1/1 [00:00<00:00, 15.93it/s]\n",
      "Batches: 100%|██████████| 1/1 [00:00<00:00, 21.27it/s]\n",
      "Batches: 100%|██████████| 1/1 [00:00<00:00, 27.26it/s]\n",
      "Batches: 100%|██████████| 1/1 [00:00<00:00, 26.52it/s]\n",
      "Batches: 100%|██████████| 1/1 [00:00<00:00, 13.71it/s]\n",
      "Batches: 100%|██████████| 1/1 [00:00<00:00, 19.11it/s]\n"
     ]
    },
    {
     "data": {
      "text/plain": [
       "{'embedding_retriever': {'documents': [Document(id=43bf6a2249a1150b06d86871008a411807102d62a54a190b378e240c55e195ee, content: ' *The Hobbit* was well-received, quickly becoming a beloved classic and establishing Tolkien as a pr...', meta: {'file_path': 'data/tolkien.txt', 'source_id': 'b4dd8cf407a5c9917b7a435288375829a0f32fa11e2064c64fc88dedbbe906b5', 'page_number': 1, 'split_id': 16, 'split_idx_start': 2068}, score: 0.8676643, embedding: vector of size 384),\n",
       "   Document(id=882b15e73d8077681ec745b6852ed92067e2e1c4a8c7cd2f3b47131f5e177935, content: '\n",
       "   \n",
       "   In addition to his fiction, Tolkien wrote extensively about his creative process and the philoso...', meta: {'file_path': 'data/tolkien.txt', 'source_id': 'b4dd8cf407a5c9917b7a435288375829a0f32fa11e2064c64fc88dedbbe906b5', 'page_number': 1, 'split_id': 25, 'split_idx_start': 3298}, score: 0.82914317, embedding: vector of size 384),\n",
       "   Document(id=ca6a348ded6cfe4d13cfd340d5d12cbdc01a1345c680ff4adbfd49d1ed08edcf, content: 'John Ronald Reuel Tolkien, born on January 3, 1892, in Bloemfontein, South Africa, stands as one of ...', meta: {'file_path': 'data/tolkien.txt', 'source_id': 'b4dd8cf407a5c9917b7a435288375829a0f32fa11e2064c64fc88dedbbe906b5', 'page_number': 1, 'split_id': 0, 'split_idx_start': 0}, score: 0.82588065, embedding: vector of size 384),\n",
       "   Document(id=25257a0ac1d4297ce427459960ef927a8183752530d85947bca66119f3e0fe39, content: '\n",
       "   \n",
       "   Despite his success, Tolkien faced challenges, including criticism from some literary circles wh...', meta: {'file_path': 'data/tolkien.txt', 'source_id': 'b4dd8cf407a5c9917b7a435288375829a0f32fa11e2064c64fc88dedbbe906b5', 'page_number': 1, 'split_id': 32, 'split_idx_start': 4024}, score: 0.82311815, embedding: vector of size 384),\n",
       "   Document(id=6f53b71ce1a8f2dfca90f2f97a7260b64c17d239e1bd80719a50158c814e6416, content: ' Tolkien’s commitment to creating a believable and immersive world sets him apart from other fantasy...', meta: {'file_path': 'data/tolkien.txt', 'source_id': 'b4dd8cf407a5c9917b7a435288375829a0f32fa11e2064c64fc88dedbbe906b5', 'page_number': 1, 'split_id': 24, 'split_idx_start': 3136}, score: 0.81461346, embedding: vector of size 384),\n",
       "   Document(id=69a67d2edd35fa3418aac24a2a2849b2b75f2a7d73741f255fb2e0f0619e08c6, content: '\n",
       "   \n",
       "   Tolkien's early exposure to nature and literature sparked a lifelong fascination with storytelli...', meta: {'file_path': 'data/tolkien.txt', 'source_id': 'b4dd8cf407a5c9917b7a435288375829a0f32fa11e2064c64fc88dedbbe906b5', 'page_number': 1, 'split_id': 5, 'split_idx_start': 647}, score: 0.81431806, embedding: vector of size 384),\n",
       "   Document(id=abfcbed8a42e97badf0cc083137d25716117aa35777db1920d0ce61ce9d1c6a0, content: '\n",
       "   \n",
       "   Following the success of *The Hobbit*, Tolkien set out to expand his universe through the writin...', meta: {'file_path': 'data/tolkien.txt', 'source_id': 'b4dd8cf407a5c9917b7a435288375829a0f32fa11e2064c64fc88dedbbe906b5', 'page_number': 1, 'split_id': 17, 'split_idx_start': 2183}, score: 0.79898137, embedding: vector of size 384),\n",
       "   Document(id=487a58365267f108dd8ff523056a33f51d30c40580cb528cca7ffd7b8759c884, content: ' The story follows Bilbo Baggins, a reluctant hobbit who embarks on an unexpected adventure with a g...', meta: {'file_path': 'data/tolkien.txt', 'source_id': 'b4dd8cf407a5c9917b7a435288375829a0f32fa11e2064c64fc88dedbbe906b5', 'page_number': 1, 'split_id': 15, 'split_idx_start': 1929}, score: 0.7951514, embedding: vector of size 384),\n",
       "   Document(id=25b5095005fa3708dc90c8a0730af6cc54722e6f09228e2d7b6c1ef1aaf32d1f, content: ' His first major published work, *The Hobbit*, was released in 1937 and introduced readers to the wh...', meta: {'file_path': 'data/tolkien.txt', 'source_id': 'b4dd8cf407a5c9917b7a435288375829a0f32fa11e2064c64fc88dedbbe906b5', 'page_number': 1, 'split_id': 14, 'split_idx_start': 1779}, score: 0.71134746, embedding: vector of size 384),\n",
       "   Document(id=2f2f5d20e48f9f3f88da1b9d802e85b04132f5b4e0aff1299b3880dfa880dbc7, content: ' The narrative follows Frodo Baggins and his companions as they undertake a perilous journey to dest...', meta: {'file_path': 'data/tolkien.txt', 'source_id': 'b4dd8cf407a5c9917b7a435288375829a0f32fa11e2064c64fc88dedbbe906b5', 'page_number': 1, 'split_id': 20, 'split_idx_start': 2641}, score: 0.70372903, embedding: vector of size 384)]},\n",
       " 'expander': {'queries': ['J.R.R. Tolkien',\n",
       "   'Middle-earth creator',\n",
       "   'author of The Hobbit',\n",
       "   'Lord of the Rings writer',\n",
       "   \"Tolkien's literary works\",\n",
       "   'Tolkien']}}"
      ]
     },
     "execution_count": 85,
     "metadata": {},
     "output_type": "execute_result"
    }
   ],
   "source": [
    "expanded_retrieval_pipeline.run({\"expander\": {\"query\": query}}, include_outputs_from=[\"expander\"])"
   ]
  },
  {
   "cell_type": "markdown",
   "metadata": {
    "id": "TYwbeS1-zIt5"
   },
   "source": [
    "## Query Expansion for RAG"
   ]
  },
  {
   "cell_type": "markdown",
   "metadata": {
    "id": "oR-lZeyrzY3M"
   },
   "source": [
    "### RAG without Query Expansion"
   ]
  },
  {
   "cell_type": "code",
   "execution_count": 86,
   "metadata": {
    "colab": {
     "base_uri": "https://localhost:8080/"
    },
    "id": "erV3yIS5n9GE",
    "outputId": "788c89b6-b603-4000-fb7c-b2bd4573e01f"
   },
   "outputs": [
    {
     "data": {
      "text/plain": [
       "<haystack.core.pipeline.pipeline.Pipeline object at 0x000001672B0DAA10>\n",
       "🚅 Components\n",
       "  - embedder: SentenceTransformersTextEmbedder\n",
       "  - retriever: ElasticsearchEmbeddingRetriever\n",
       "  - prompt: PromptBuilder\n",
       "  - llm: OpenAIGenerator\n",
       "🛤️ Connections\n",
       "  - embedder.embedding -> retriever.query_embedding (List[float])\n",
       "  - retriever.documents -> prompt.documents (List[Document])\n",
       "  - prompt.prompt -> llm.prompt (str)"
      ]
     },
     "execution_count": 86,
     "metadata": {},
     "output_type": "execute_result"
    }
   ],
   "source": [
    "template = \"\"\"\n",
    "You are part of an information system that summarises related documents.\n",
    "You answer a query using the textual content from the documents retrieved for the\n",
    "following query.\n",
    "\n",
    "You should reference the documents you used to support your answer.\n",
    "###\n",
    "Original Query: \"{{query}}\"\n",
    "Retrieved Documents: {{documents}}\n",
    "Summary Answer:\n",
    "\"\"\"\n",
    "embedder = SentenceTransformersTextEmbedder(\"sentence-transformers/all-MiniLM-L6-v2\")\n",
    "retriever = ElasticsearchEmbeddingRetriever(document_store=document_store, top_k = 3)\n",
    "prompt_builder = PromptBuilder(template = template)\n",
    "llm = OpenAIGenerator(api_key=Secret.from_token(OPENAI_API_TOKEN))\n",
    "\n",
    "rag_pipeline = Pipeline()\n",
    "rag_pipeline.add_component(\"embedder\", embedder)\n",
    "rag_pipeline.add_component(\"retriever\", retriever)\n",
    "rag_pipeline.add_component(\"prompt\", prompt_builder)\n",
    "rag_pipeline.add_component(\"llm\", llm)\n",
    "\n",
    "rag_pipeline.connect(\"embedder.embedding\", \"retriever.query_embedding\")\n",
    "rag_pipeline.connect(\"retriever.documents\", \"prompt.documents\")\n",
    "rag_pipeline.connect(\"prompt\", \"llm\")"
   ]
  },
  {
   "cell_type": "code",
   "execution_count": 87,
   "metadata": {
    "colab": {
     "base_uri": "https://localhost:8080/"
    },
    "id": "UD03G6MQoDhV",
    "outputId": "10dc9b16-4d13-455b-f5a6-e09b97c9d835"
   },
   "outputs": [
    {
     "name": "stderr",
     "output_type": "stream",
     "text": [
      "Batches: 100%|██████████| 1/1 [00:00<00:00,  9.25it/s]\n"
     ]
    },
    {
     "data": {
      "text/html": [
       "<pre style=\"white-space:pre;overflow-x:auto;line-height:normal;font-family:Menlo,'DejaVu Sans Mono',consolas,'Courier New',monospace\"><span style=\"font-weight: bold\">[</span>\n",
       "    <span style=\"color: #008000; text-decoration-color: #008000\">\"J.R.R. Tolkien is distinguished by his dedication to crafting a believable and immersive world, which is a </span>\n",
       "<span style=\"color: #008000; text-decoration-color: #008000\">hallmark of his works. His initial success with *The Hobbit* motivated him to further develop his universe through </span>\n",
       "<span style=\"color: #008000; text-decoration-color: #008000\">expansive writing. Tolkien's early relationship with nature and literature ignited a lasting passion for </span>\n",
       "<span style=\"color: #008000; text-decoration-color: #008000\">storytelling, contributing significantly to his narrative approach and themes (Document id: </span>\n",
       "<span style=\"color: #008000; text-decoration-color: #008000\">6f53b71ce1a8f2dfca90f2f97a7260b64c17d239e1bd80719a50158c814e6416; Document id: </span>\n",
       "<span style=\"color: #008000; text-decoration-color: #008000\">abfcbed8a42e97badf0cc083137d25716117aa35777db1920d0ce61ce9d1c6a0; Document id: </span>\n",
       "<span style=\"color: #008000; text-decoration-color: #008000\">69a67d2edd35fa3418aac24a2a2849b2b75f2a7d73741f255fb2e0f0619e08c6).\"</span>\n",
       "<span style=\"font-weight: bold\">]</span>\n",
       "</pre>\n"
      ],
      "text/plain": [
       "\u001b[1m[\u001b[0m\n",
       "    \u001b[32m\"J.R.R. Tolkien is distinguished by his dedication to crafting a believable and immersive world, which is a \u001b[0m\n",
       "\u001b[32mhallmark of his works. His initial success with *The Hobbit* motivated him to further develop his universe through \u001b[0m\n",
       "\u001b[32mexpansive writing. Tolkien's early relationship with nature and literature ignited a lasting passion for \u001b[0m\n",
       "\u001b[32mstorytelling, contributing significantly to his narrative approach and themes \u001b[0m\u001b[32m(\u001b[0m\u001b[32mDocument id: \u001b[0m\n",
       "\u001b[32m6f53b71ce1a8f2dfca90f2f97a7260b64c17d239e1bd80719a50158c814e6416; Document id: \u001b[0m\n",
       "\u001b[32mabfcbed8a42e97badf0cc083137d25716117aa35777db1920d0ce61ce9d1c6a0; Document id: \u001b[0m\n",
       "\u001b[32m69a67d2edd35fa3418aac24a2a2849b2b75f2a7d73741f255fb2e0f0619e08c6\u001b[0m\u001b[32m)\u001b[0m\u001b[32m.\"\u001b[0m\n",
       "\u001b[1m]\u001b[0m\n"
      ]
     },
     "metadata": {},
     "output_type": "display_data"
    }
   ],
   "source": [
    "query = \"Tolkien\"\n",
    "res = rag_pipeline.run({\"embedder\": {\"text\": query}, \"retriever\": {\"top_k\": 3}}, include_outputs_from=[\"retriever\"])\n",
    "rich.print(res[\"llm\"][\"replies\"])"
   ]
  },
  {
   "cell_type": "markdown",
   "metadata": {
    "id": "MRx9_9pzzcxo"
   },
   "source": [
    "### RAG with Query Expansion"
   ]
  },
  {
   "cell_type": "code",
   "execution_count": 90,
   "metadata": {
    "colab": {
     "base_uri": "https://localhost:8080/"
    },
    "id": "gA6-RvHdn8pT",
    "outputId": "7ba03184-cba0-4882-cae3-4909eeea6a6a"
   },
   "outputs": [
    {
     "data": {
      "text/plain": [
       "<haystack.core.pipeline.pipeline.Pipeline object at 0x000001672BB24410>\n",
       "🚅 Components\n",
       "  - expander: QueryExpander\n",
       "  - retriever: MultiQueryElasticsearchEmbeddingRetriever\n",
       "  - prompt: PromptBuilder\n",
       "  - llm: OpenAIGenerator\n",
       "🛤️ Connections\n",
       "  - expander.queries -> retriever.queries (List[str])\n",
       "  - retriever.documents -> prompt.documents (List[Document])\n",
       "  - prompt.prompt -> llm.prompt (str)"
      ]
     },
     "execution_count": 90,
     "metadata": {},
     "output_type": "execute_result"
    }
   ],
   "source": [
    "template = \"\"\"\n",
    "You are part of an information system that summarises related documents.\n",
    "You answer a query using the textual content from the documents retrieved for the\n",
    "following query.\n",
    "\n",
    "You should reference the documents you used to support your answer.\n",
    "###\n",
    "Original Query: \"{{query}}\"\n",
    "Retrieved Documents: {{documents}}\n",
    "Summary Answer:\n",
    "\"\"\"\n",
    "expander = QueryExpander(open_ai_key=Secret.from_token(OPENAI_API_TOKEN))\n",
    "query_retriever = MultiQueryElasticsearchEmbeddingRetriever(ElasticsearchEmbeddingRetriever(document_store=document_store, top_k = 5))\n",
    "prompt_builder = PromptBuilder(template = template)\n",
    "llm = OpenAIGenerator(api_key=Secret.from_token(OPENAI_API_TOKEN))\n",
    "\n",
    "query_expanded_rag_pipeline = Pipeline()\n",
    "query_expanded_rag_pipeline.add_component(\"expander\", expander)\n",
    "query_expanded_rag_pipeline.add_component(\"retriever\", query_retriever)\n",
    "query_expanded_rag_pipeline.add_component(\"prompt\", prompt_builder)\n",
    "query_expanded_rag_pipeline.add_component(\"llm\", llm)\n",
    "\n",
    "query_expanded_rag_pipeline.connect(\"expander.queries\", \"retriever.queries\")\n",
    "query_expanded_rag_pipeline.connect(\"retriever.documents\", \"prompt.documents\")\n",
    "query_expanded_rag_pipeline.connect(\"prompt\", \"llm\")"
   ]
  },
  {
   "cell_type": "code",
   "execution_count": 91,
   "metadata": {
    "colab": {
     "base_uri": "https://localhost:8080/",
     "height": 1000
    },
    "id": "OPgfePQw6SGn",
    "outputId": "d7231d48-ef64-4a8e-ab45-bcfc2ff15936"
   },
   "outputs": [
    {
     "data": {
      "image/png": "[encoded data removed]",
      "text/plain": [
       "<IPython.core.display.Image object>"
      ]
     },
     "metadata": {},
     "output_type": "display_data"
    }
   ],
   "source": [
    "query_expanded_rag_pipeline.show()"
   ]
  },
  {
   "cell_type": "code",
   "execution_count": null,
   "metadata": {
    "colab": {
     "base_uri": "https://localhost:8080/"
    },
    "id": "qfdrTpZijsnv",
    "outputId": "e22e6e34-1f06-4c7f-8bd7-473dc3654542"
   },
   "outputs": [
    {
     "name": "stderr",
     "output_type": "stream",
     "text": [
      "Batches: 100%|██████████| 1/1 [00:00<00:00, 13.72it/s]\n",
      "Batches: 100%|██████████| 1/1 [00:00<00:00, 16.67it/s]\n",
      "Batches: 100%|██████████| 1/1 [00:00<00:00, 15.29it/s]\n",
      "Batches: 100%|██████████| 1/1 [00:00<00:00, 19.61it/s]\n",
      "Batches: 100%|██████████| 1/1 [00:00<00:00, 16.37it/s]\n",
      "Batches: 100%|██████████| 1/1 [00:00<00:00, 17.50it/s]\n"
     ]
    },
    {
     "data": {
      "text/html": [
       "<pre style=\"white-space:pre;overflow-x:auto;line-height:normal;font-family:Menlo,'DejaVu Sans Mono',consolas,'Courier New',monospace\"><span style=\"font-weight: bold\">[</span>\n",
       "    <span style=\"color: #008000; text-decoration-color: #008000\">\"John Ronald Reuel Tolkien, born on January 3, 1892, in Bloemfontein, South Africa, is celebrated for his </span>\n",
       "<span style=\"color: #008000; text-decoration-color: #008000\">impact on fantasy literature, notably through his works such as *The Hobbit* and *The Lord of the Rings*. His first</span>\n",
       "<span style=\"color: #008000; text-decoration-color: #008000\">major published work, *The Hobbit*, released in 1937, follows Bilbo Baggins— a reluctant hobbit who embarks on an </span>\n",
       "<span style=\"color: #008000; text-decoration-color: #008000\">unexpected adventure (Document 487a58365267f108dd8ff523056a33f51d30c40580cb528cca7ffd7b8759c884). This book quickly</span>\n",
       "<span style=\"color: #008000; text-decoration-color: #008000\">became a beloved classic, establishing Tolkien's reputation as a prominent author in the genre (Document </span>\n",
       "<span style=\"color: #008000; text-decoration-color: #008000\">43bf6a2249a1150b06d86871008a411807102d62a54a190b378e240c55e195ee).\\n\\nTolkien's works are distinguished by their </span>\n",
       "<span style=\"color: #008000; text-decoration-color: #008000\">intricate mythology and depth, diverging significantly in tone and complexity. While *The Hobbit* was primarily </span>\n",
       "<span style=\"color: #008000; text-decoration-color: #008000\">aimed at children, *The Lord of the Rings* explores darker themes and is recognized for its elaborate </span>\n",
       "<span style=\"color: #008000; text-decoration-color: #008000\">world-building, including detailed histories, languages, and cultures (Document </span>\n",
       "<span style=\"color: #008000; text-decoration-color: #008000\">a306633ab1b1f5af96f0297d53c7c74ea5d09b1b391fab033a02439b4ea223e0; Document </span>\n",
       "<span style=\"color: #008000; text-decoration-color: #008000\">a6e3f37ba2c3716bd6a1c8b5b669a890e3f5f317e6c544db170451fa558b37be).\\n\\nTolkien's journey through literature was not </span>\n",
       "<span style=\"color: #008000; text-decoration-color: #008000\">without challenges, facing criticism from literary circles (Document </span>\n",
       "<span style=\"color: #008000; text-decoration-color: #008000\">25257a0ac1d4297ce427459960ef927a8183752530d85947bca66119f3e0fe39). However, his belief in the power of myth and </span>\n",
       "<span style=\"color: #008000; text-decoration-color: #008000\">storytelling to convey moral truths has left a lasting legacy in the literary world (Document </span>\n",
       "<span style=\"color: #008000; text-decoration-color: #008000\">8252051f60c1af773fbadb1e6dcf205d3caeae184a2401dab706a1f5ce06a984). \\n\\nAfter the success of *The Hobbit*, Tolkien </span>\n",
       "<span style=\"color: #008000; text-decoration-color: #008000\">expanded his universe with *The Lord of the Rings*, which follows Frodo Baggins and his companions on a perilous </span>\n",
       "<span style=\"color: #008000; text-decoration-color: #008000\">journey to destroy the One Ring (Document 2f2f5d20e48f9f3f88da1b9d802e85b04132f5b4e0aff1299b3880dfa880dbc7). </span>\n",
       "<span style=\"color: #008000; text-decoration-color: #008000\">Tolkien’s extensive writings encompass not only narratives but also reflections on his creative process, showcasing</span>\n",
       "<span style=\"color: #008000; text-decoration-color: #008000\">his deep engagement with the craft of storytelling (Document </span>\n",
       "<span style=\"color: #008000; text-decoration-color: #008000\">882b15e73d8077681ec745b6852ed92067e2e1c4a8c7cd2f3b47131f5e177935).\"</span>\n",
       "<span style=\"font-weight: bold\">]</span>\n",
       "</pre>\n"
      ],
      "text/plain": [
       "\u001b[1m[\u001b[0m\n",
       "    \u001b[32m\"John Ronald Reuel Tolkien, born on January 3, 1892, in Bloemfontein, South Africa, is celebrated for his \u001b[0m\n",
       "\u001b[32mimpact on fantasy literature, notably through his works such as *The Hobbit* and *The Lord of the Rings*. His first\u001b[0m\n",
       "\u001b[32mmajor published work, *The Hobbit*, released in 1937, follows Bilbo Baggins— a reluctant hobbit who embarks on an \u001b[0m\n",
       "\u001b[32munexpected adventure \u001b[0m\u001b[32m(\u001b[0m\u001b[32mDocument 487a58365267f108dd8ff523056a33f51d30c40580cb528cca7ffd7b8759c884\u001b[0m\u001b[32m)\u001b[0m\u001b[32m. This book quickly\u001b[0m\n",
       "\u001b[32mbecame a beloved classic, establishing Tolkien's reputation as a prominent author in the genre \u001b[0m\u001b[32m(\u001b[0m\u001b[32mDocument \u001b[0m\n",
       "\u001b[32m43bf6a2249a1150b06d86871008a411807102d62a54a190b378e240c55e195ee\u001b[0m\u001b[32m)\u001b[0m\u001b[32m.\\n\\nTolkien's works are distinguished by their \u001b[0m\n",
       "\u001b[32mintricate mythology and depth, diverging significantly in tone and complexity. While *The Hobbit* was primarily \u001b[0m\n",
       "\u001b[32maimed at children, *The Lord of the Rings* explores darker themes and is recognized for its elaborate \u001b[0m\n",
       "\u001b[32mworld-building, including detailed histories, languages, and cultures \u001b[0m\u001b[32m(\u001b[0m\u001b[32mDocument \u001b[0m\n",
       "\u001b[32ma306633ab1b1f5af96f0297d53c7c74ea5d09b1b391fab033a02439b4ea223e0; Document \u001b[0m\n",
       "\u001b[32ma6e3f37ba2c3716bd6a1c8b5b669a890e3f5f317e6c544db170451fa558b37be\u001b[0m\u001b[32m)\u001b[0m\u001b[32m.\\n\\nTolkien's journey through literature was not \u001b[0m\n",
       "\u001b[32mwithout challenges, facing criticism from literary circles \u001b[0m\u001b[32m(\u001b[0m\u001b[32mDocument \u001b[0m\n",
       "\u001b[32m25257a0ac1d4297ce427459960ef927a8183752530d85947bca66119f3e0fe39\u001b[0m\u001b[32m)\u001b[0m\u001b[32m. However, his belief in the power of myth and \u001b[0m\n",
       "\u001b[32mstorytelling to convey moral truths has left a lasting legacy in the literary world \u001b[0m\u001b[32m(\u001b[0m\u001b[32mDocument \u001b[0m\n",
       "\u001b[32m8252051f60c1af773fbadb1e6dcf205d3caeae184a2401dab706a1f5ce06a984\u001b[0m\u001b[32m)\u001b[0m\u001b[32m. \\n\\nAfter the success of *The Hobbit*, Tolkien \u001b[0m\n",
       "\u001b[32mexpanded his universe with *The Lord of the Rings*, which follows Frodo Baggins and his companions on a perilous \u001b[0m\n",
       "\u001b[32mjourney to destroy the One Ring \u001b[0m\u001b[32m(\u001b[0m\u001b[32mDocument 2f2f5d20e48f9f3f88da1b9d802e85b04132f5b4e0aff1299b3880dfa880dbc7\u001b[0m\u001b[32m)\u001b[0m\u001b[32m. \u001b[0m\n",
       "\u001b[32mTolkien’s extensive writings encompass not only narratives but also reflections on his creative process, showcasing\u001b[0m\n",
       "\u001b[32mhis deep engagement with the craft of storytelling \u001b[0m\u001b[32m(\u001b[0m\u001b[32mDocument \u001b[0m\n",
       "\u001b[32m882b15e73d8077681ec745b6852ed92067e2e1c4a8c7cd2f3b47131f5e177935\u001b[0m\u001b[32m)\u001b[0m\u001b[32m.\"\u001b[0m\n",
       "\u001b[1m]\u001b[0m\n"
      ]
     },
     "metadata": {},
     "output_type": "display_data"
    },
    {
     "name": "stdout",
     "output_type": "stream",
     "text": [
      "{'queries': ['J.R.R. Tolkien', \"Tolkien's works\", 'Middle-earth legendarium', 'The Hobbit and The Lord of the Rings', \"Tolkien's literary contributions\", 'Tolkien']}\n",
      "{'documents': [Document(id=882b15e73d8077681ec745b6852ed92067e2e1c4a8c7cd2f3b47131f5e177935, content: '\n",
      "\n",
      "In addition to his fiction, Tolkien wrote extensively about his creative process and the philoso...', meta: {'file_path': 'data/tolkien.txt', 'source_id': 'b4dd8cf407a5c9917b7a435288375829a0f32fa11e2064c64fc88dedbbe906b5', 'page_number': 1, 'split_id': 25, 'split_idx_start': 3298}, score: 0.8656961, embedding: vector of size 384), Document(id=a2147d999b230318d50b566d2de0921226dbfcf3baadcb6b4b79338ee8cfce34, content: ' The cinematic adaptations of *The Lord of the Rings* and *The Hobbit*, directed by Peter Jackson, b...', meta: {'file_path': 'data/tolkien.txt', 'source_id': 'b4dd8cf407a5c9917b7a435288375829a0f32fa11e2064c64fc88dedbbe906b5', 'page_number': 1, 'split_id': 37, 'split_idx_start': 4677}, score: 0.8557259, embedding: vector of size 384), Document(id=43bf6a2249a1150b06d86871008a411807102d62a54a190b378e240c55e195ee, content: ' *The Hobbit* was well-received, quickly becoming a beloved classic and establishing Tolkien as a pr...', meta: {'file_path': 'data/tolkien.txt', 'source_id': 'b4dd8cf407a5c9917b7a435288375829a0f32fa11e2064c64fc88dedbbe906b5', 'page_number': 1, 'split_id': 16, 'split_idx_start': 2068}, score: 0.8429458, embedding: vector of size 384), Document(id=a306633ab1b1f5af96f0297d53c7c74ea5d09b1b391fab033a02439b4ea223e0, content: ' Unlike *The Hobbit*, which was aimed primarily at children, *The Lord of the Rings* delves into dar...', meta: {'file_path': 'data/tolkien.txt', 'source_id': 'b4dd8cf407a5c9917b7a435288375829a0f32fa11e2064c64fc88dedbbe906b5', 'page_number': 1, 'split_id': 19, 'split_idx_start': 2468}, score: 0.8336146, embedding: vector of size 384), Document(id=487a58365267f108dd8ff523056a33f51d30c40580cb528cca7ffd7b8759c884, content: ' The story follows Bilbo Baggins, a reluctant hobbit who embarks on an unexpected adventure with a g...', meta: {'file_path': 'data/tolkien.txt', 'source_id': 'b4dd8cf407a5c9917b7a435288375829a0f32fa11e2064c64fc88dedbbe906b5', 'page_number': 1, 'split_id': 15, 'split_idx_start': 1929}, score: 0.8300227, embedding: vector of size 384), Document(id=ca6a348ded6cfe4d13cfd340d5d12cbdc01a1345c680ff4adbfd49d1ed08edcf, content: 'John Ronald Reuel Tolkien, born on January 3, 1892, in Bloemfontein, South Africa, stands as one of ...', meta: {'file_path': 'data/tolkien.txt', 'source_id': 'b4dd8cf407a5c9917b7a435288375829a0f32fa11e2064c64fc88dedbbe906b5', 'page_number': 1, 'split_id': 0, 'split_idx_start': 0}, score: 0.82588065, embedding: vector of size 384), Document(id=25257a0ac1d4297ce427459960ef927a8183752530d85947bca66119f3e0fe39, content: '\n",
      "\n",
      "Despite his success, Tolkien faced challenges, including criticism from some literary circles wh...', meta: {'file_path': 'data/tolkien.txt', 'source_id': 'b4dd8cf407a5c9917b7a435288375829a0f32fa11e2064c64fc88dedbbe906b5', 'page_number': 1, 'split_id': 32, 'split_idx_start': 4024}, score: 0.82311815, embedding: vector of size 384), Document(id=6f53b71ce1a8f2dfca90f2f97a7260b64c17d239e1bd80719a50158c814e6416, content: ' Tolkien’s commitment to creating a believable and immersive world sets him apart from other fantasy...', meta: {'file_path': 'data/tolkien.txt', 'source_id': 'b4dd8cf407a5c9917b7a435288375829a0f32fa11e2064c64fc88dedbbe906b5', 'page_number': 1, 'split_id': 24, 'split_idx_start': 3136}, score: 0.81461346, embedding: vector of size 384), Document(id=69a67d2edd35fa3418aac24a2a2849b2b75f2a7d73741f255fb2e0f0619e08c6, content: '\n",
      "\n",
      "Tolkien's early exposure to nature and literature sparked a lifelong fascination with storytelli...', meta: {'file_path': 'data/tolkien.txt', 'source_id': 'b4dd8cf407a5c9917b7a435288375829a0f32fa11e2064c64fc88dedbbe906b5', 'page_number': 1, 'split_id': 5, 'split_idx_start': 647}, score: 0.81431806, embedding: vector of size 384), Document(id=abfcbed8a42e97badf0cc083137d25716117aa35777db1920d0ce61ce9d1c6a0, content: '\n",
      "\n",
      "Following the success of *The Hobbit*, Tolkien set out to expand his universe through the writin...', meta: {'file_path': 'data/tolkien.txt', 'source_id': 'b4dd8cf407a5c9917b7a435288375829a0f32fa11e2064c64fc88dedbbe906b5', 'page_number': 1, 'split_id': 17, 'split_idx_start': 2183}, score: 0.79898137, embedding: vector of size 384), Document(id=a6e3f37ba2c3716bd6a1c8b5b669a890e3f5f317e6c544db170451fa558b37be, content: ' He created an intricate mythology complete with detailed histories, languages, and cultures.', meta: {'file_path': 'data/tolkien.txt', 'source_id': 'b4dd8cf407a5c9917b7a435288375829a0f32fa11e2064c64fc88dedbbe906b5', 'page_number': 1, 'split_id': 22, 'split_idx_start': 2905}, score: 0.76655054, embedding: vector of size 384), Document(id=2f2f5d20e48f9f3f88da1b9d802e85b04132f5b4e0aff1299b3880dfa880dbc7, content: ' The narrative follows Frodo Baggins and his companions as they undertake a perilous journey to dest...', meta: {'file_path': 'data/tolkien.txt', 'source_id': 'b4dd8cf407a5c9917b7a435288375829a0f32fa11e2064c64fc88dedbbe906b5', 'page_number': 1, 'split_id': 20, 'split_idx_start': 2641}, score: 0.7533606, embedding: vector of size 384), Document(id=8252051f60c1af773fbadb1e6dcf205d3caeae184a2401dab706a1f5ce06a984, content: ' He believed in the power of myth and storytelling to convey deeper truths and moral lessons.', meta: {'file_path': 'data/tolkien.txt', 'source_id': 'b4dd8cf407a5c9917b7a435288375829a0f32fa11e2064c64fc88dedbbe906b5', 'page_number': 1, 'split_id': 26, 'split_idx_start': 3423}, score: 0.7183801, embedding: vector of size 384), Document(id=25b5095005fa3708dc90c8a0730af6cc54722e6f09228e2d7b6c1ef1aaf32d1f, content: ' His first major published work, *The Hobbit*, was released in 1937 and introduced readers to the wh...', meta: {'file_path': 'data/tolkien.txt', 'source_id': 'b4dd8cf407a5c9917b7a435288375829a0f32fa11e2064c64fc88dedbbe906b5', 'page_number': 1, 'split_id': 14, 'split_idx_start': 1779}, score: 0.6661, embedding: vector of size 384)]}\n"
     ]
    }
   ],
   "source": [
    "query = \"Tolkien\"\n",
    "res = query_expanded_rag_pipeline.run({\"expander\": {\"query\": query}, \"retriever\": {\"top_k\": 3}}, include_outputs_from=[\"retriever\", \"expander\"])\n",
    "\n",
    "rich.print(res['llm']['replies'])\n",
    "print(\"Expander: \", res['expander'])\n",
    "print(\"Retriver: \", res['retriever'])"
   ]
  },
  {
   "cell_type": "code",
   "execution_count": null,
   "metadata": {},
   "outputs": [],
   "source": []
  }
 ],
 "metadata": {
  "colab": {
   "provenance": []
  },
  "kernelspec": {
   "display_name": "Python 3",
   "name": "python3"
  },
  "language_info": {
   "codemirror_mode": {
    "name": "ipython",
    "version": 3
   },
   "file_extension": ".py",
   "mimetype": "text/x-python",
   "name": "python",
   "nbconvert_exporter": "python",
   "pygments_lexer": "ipython3",
   "version": "3.11.9"
  }
 },
 "nbformat": 4,
 "nbformat_minor": 0
}
