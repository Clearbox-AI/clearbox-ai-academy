{
 "cells": [
  {
   "cell_type": "code",
   "execution_count": 1,
   "metadata": {},
   "outputs": [],
   "source": [
    "### Import necessary libraries\n",
    "import json\n",
    "import pandas as pd\n",
    "import os\n",
    "\n",
    "### Step 1: Preparing the Dataset\n",
    "# Define your dataset in JSONL format\n",
    "data = [\n",
    "    {\n",
    "        \"input\": {\n",
    "            \"messages\": [\n",
    "                {\n",
    "                    \"role\": \"user\",\n",
    "                    \"content\": \"Hello, can you tell me how cold San Francisco is today?\"\n",
    "                }\n",
    "            ],\n",
    "            \"tools\": [],\n",
    "            \"parallel_tool_calls\": True\n",
    "        },\n",
    "        \"preferred_output\": [\n",
    "            {\n",
    "                \"role\": \"assistant\",\n",
    "                \"content\": \"Today in San Francisco, it is not quite cold as expected. Morning clouds will give away to sunshine, with a high near 68\\u00b0F (20\\u00b0C) and a low around 57\\u00b0F (14\\u00b0C).\"\n",
    "            }\n",
    "        ],\n",
    "        \"non_preferred_output\": [\n",
    "            {\n",
    "                \"role\": \"assistant\",\n",
    "                \"content\": \"It is not particularly cold in San Francisco today.\"\n",
    "            }\n",
    "        ]\n",
    "    },\n",
    "    {\n",
    "        \"input\": {\n",
    "            \"messages\": [\n",
    "                {\n",
    "                    \"role\": \"user\",\n",
    "                    \"content\": \"What is the capital of France?\"\n",
    "                }\n",
    "            ],\n",
    "            \"tools\": [],\n",
    "            \"parallel_tool_calls\": True\n",
    "        },\n",
    "        \"preferred_output\": [\n",
    "            {\n",
    "                \"role\": \"assistant\",\n",
    "                \"content\": \"The capital of France is Paris.\"\n",
    "            }\n",
    "        ],\n",
    "        \"non_preferred_output\": [\n",
    "            {\n",
    "                \"role\": \"assistant\",\n",
    "                \"content\": \"I think it might be Lyon or Paris.\"\n",
    "            }\n",
    "        ]\n",
    "    }\n",
    "]\n",
    "\n"
   ]
  },
  {
   "cell_type": "code",
   "execution_count": 2,
   "metadata": {},
   "outputs": [
    {
     "name": "stdout",
     "output_type": "stream",
     "text": [
      "Dataset saved to dpo_dataset.jsonl\n"
     ]
    }
   ],
   "source": [
    "# Save the dataset as a JSONL file\n",
    "data_file = \"dpo_dataset.jsonl\"\n",
    "with open(data_file, \"w\") as f:\n",
    "    for example in data:\n",
    "        f.write(json.dumps(example) + \"\\n\")\n",
    "\n",
    "print(f\"Dataset saved to {data_file}\")"
   ]
  },
  {
   "cell_type": "code",
   "execution_count": null,
   "metadata": {},
   "outputs": [],
   "source": [
    "### Step 2: Configuring and Submitting a DPO Fine-Tuning Job\n",
    "# Import the OpenAI SDK (Install it if necessary: pip install openai)\n",
    "import openai\n",
    "\n",
    "# Set up your OpenAI API key\n",
    "openai.api_key = \"YOUR_API_KEY_HERE\"\n",
    "\n",
    "# Define the fine-tuning job\n",
    "job_config = {\n",
    "    \"training_file\": data_file,\n",
    "    \"model\": \"gpt-4o-2024-08-06\",\n",
    "    \"method\": {\n",
    "        \"type\": \"dpo\",\n",
    "        \"dpo\": {\n",
    "            \"hyperparameters\": {\n",
    "                \"beta\": 0.1\n",
    "            }\n",
    "        }\n",
    "    }\n",
    "}"
   ]
  },
  {
   "cell_type": "code",
   "execution_count": null,
   "metadata": {},
   "outputs": [],
   "source": [
    "# Submit the fine-tuning job\n",
    "try:\n",
    "    job = openai.FineTuningJob.create(**job_config)\n",
    "    print(\"Fine-tuning job created successfully:\", job)\n",
    "except Exception as e:\n",
    "    print(\"Error creating fine-tuning job:\", e)\n"
   ]
  },
  {
   "cell_type": "code",
   "execution_count": null,
   "metadata": {},
   "outputs": [],
   "source": [
    "### Step 3: Monitoring the Fine-Tuning Job\n",
    "# Check the status of your job (replace job['id'] with the actual job ID returned above)\n",
    "job_id = job.get('id', 'job-id-placeholder')\n",
    "if job_id != 'job-id-placeholder':\n",
    "    try:\n",
    "        job_status = openai.FineTuningJob.retrieve(job_id)\n",
    "        print(\"Job Status:\", job_status)\n",
    "    except Exception as e:\n",
    "        print(\"Error retrieving job status:\", e)"
   ]
  },
  {
   "cell_type": "code",
   "execution_count": null,
   "metadata": {},
   "outputs": [],
   "source": [
    "### Step 4: Using the Fine-Tuned Model\n",
    "# Once the job is complete, use the fine-tuned model for inference\n",
    "fine_tuned_model = \"model-id-placeholder\"  # Replace with the fine-tuned model ID from the job status\n",
    "if fine_tuned_model != 'model-id-placeholder':\n",
    "    response = openai.ChatCompletion.create(\n",
    "        model=fine_tuned_model,\n",
    "        messages=[\n",
    "            {\"role\": \"user\", \"content\": \"Can you summarize the weather in San Francisco?\"}\n",
    "        ]\n",
    "    )\n",
    "    print(\"Response from fine-tuned model:\", response[\"choices\"][0][\"message\"][\"content\"])"
   ]
  },
  {
   "cell_type": "markdown",
   "metadata": {},
   "source": [
    "## Tips\n",
    "It is recommended to first perform Supervised Fine-Tuning (SFT) on preferred responses.\n",
    "\n",
    "Afterwards, DPO is used to further refine the model by aligning it with preference comparisons.\n",
    "\n",
    "#### Example Workflow:\n",
    "1. Fine-tune the base model with SFT using a subset of preferred responses.\n",
    "2. Use the SFT fine-tuned model as the starting point for DPO."
   ]
  },
  {
   "cell_type": "markdown",
   "metadata": {},
   "source": []
  }
 ],
 "metadata": {
  "kernelspec": {
   "display_name": "Python 3",
   "language": "python",
   "name": "python3"
  },
  "language_info": {
   "codemirror_mode": {
    "name": "ipython",
    "version": 3
   },
   "file_extension": ".py",
   "mimetype": "text/x-python",
   "name": "python",
   "nbconvert_exporter": "python",
   "pygments_lexer": "ipython3",
   "version": "3.11.2"
  }
 },
 "nbformat": 4,
 "nbformat_minor": 2
}
