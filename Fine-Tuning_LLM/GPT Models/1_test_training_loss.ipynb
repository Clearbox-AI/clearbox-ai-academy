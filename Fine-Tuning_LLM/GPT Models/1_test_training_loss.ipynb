{
  "cells": [
    {
      "cell_type": "markdown",
      "metadata": {
        "id": "rrAC7kjchtvS"
      },
      "source": [
        "# Welcome to the test notebook for lesson 1 - part 2\n",
        "\n",
        "You want to see how the `training_loss` and `train_mean_token_accuracy` change in each `step` of the model training process.\n",
        "\n",
        "Your task is to first extract the needed information from the trained model and use line charts to visualize `train_mean_token_accuracy` vs `step` and one line chart for `training_loss` vs `step`.\n",
        "\n",
        "Follow the instructions in the notebook to complete the challenge task."
      ]
    },
    {
      "cell_type": "markdown",
      "metadata": {
        "id": "K3My9tbf7L0i"
      },
      "source": [
        "Run the code block below to import the necessary modules and set up the OpenAI API. <br>\n",
        "`Hint:` Do not forget to upload the `.env` file"
      ]
    },
    {
      "cell_type": "code",
      "execution_count": 1,
      "metadata": {},
      "outputs": [
        {
          "name": "stdout",
          "output_type": "stream",
          "text": [
            "Modules are imported.\n"
          ]
        }
      ],
      "source": [
        "import pandas as pd\n",
        "import os, time\n",
        "from openai import OpenAI\n",
        "from dotenv import load_dotenv\n",
        "import json\n",
        "import matplotlib.pyplot as plt\n",
        "\n",
        "print(\"Modules are imported.\")"
      ]
    },
    {
      "cell_type": "code",
      "execution_count": null,
      "metadata": {
        "id": "NEuarNozhr1E"
      },
      "outputs": [],
      "source": [
        "from dotenv import load_dotenv\n",
        "\n",
        "load_dotenv()\n",
        "OPENAI_API_TOKEN = os.getenv(\"OPENAI_API_TOKEN\")\n",
        "client =  OpenAI(api_key=OPENAI_API_TOKEN)\n"
      ]
    },
    {
      "cell_type": "markdown",
      "metadata": {
        "id": "cm6SF029-sWS"
      },
      "source": [
        "Run the code block below to retrieve all the fine-tuned models that you have trained on the OpenAI servers. And select the latest fine-tuning job from the list."
      ]
    },
    {
      "cell_type": "code",
      "execution_count": null,
      "metadata": {
        "colab": {
          "base_uri": "https://localhost:8080/"
        },
        "id": "VVM4XV88_JIj",
        "outputId": "b8ff3965-e4ec-4f8d-ba68-ff96e25431f6"
      },
      "outputs": [
        {
          "data": {
            "text/plain": [
              "FineTuningJob(id='ftjob-iOBbgWX7vgwEAWs4Vdc45oYv', created_at=1707400202, error=Error(code=None, message=None, param=None, error=None), fine_tuned_model='ft:gpt-3.5-turbo-0613:coursera::8pzAWy37', finished_at=1707400551, hyperparameters=Hyperparameters(n_epochs=2, batch_size=1, learning_rate_multiplier=2), model='gpt-3.5-turbo-0613', object='fine_tuning.job', organization_id='org-H5qGDW58ACTBr2sO94WVVyXW', result_files=['file-3bFWTnuZI9SRNacM7aVW8PMc'], status='succeeded', trained_tokens=5564, training_file='file-5gQJu0Ln8tXAlZrUPsTyie3M', validation_file=None)"
            ]
          },
          "execution_count": 9,
          "metadata": {},
          "output_type": "execute_result"
        }
      ],
      "source": [
        "# Retrieving the list of fine-tuning jobs from the OpenAI client\n",
        "fine_tuning_jobs = list(client.fine_tuning.jobs.list())\n",
        "\n",
        "# Selecting the latest fine-tuning job from the list\n",
        "latest_job = fine_tuning_jobs[-1]\n",
        "latest_job"
      ]
    },
    {
      "cell_type": "markdown",
      "metadata": {
        "id": "CWsNHDeKAZRY"
      },
      "source": [
        "Now retrieve all the event messages from the retrieved job and put it inside a variable called `events`"
      ]
    },
    {
      "cell_type": "code",
      "execution_count": null,
      "metadata": {
        "colab": {
          "base_uri": "https://localhost:8080/"
        },
        "id": "YLXPR41g_WyC",
        "outputId": "b5bb6b3f-247a-403c-ad01-fcd8ecd67c9d"
      },
      "outputs": [
        {
          "name": "stdout",
          "output_type": "stream",
          "text": [
            "[FineTuningJobEvent(id='ftevent-1pHoqHuhOqd4zCmm7y0aNgLY', created_at=1707400555, level='info', message='The job has successfully completed', object='fine_tuning.job.event', data={}, type='message'), FineTuningJobEvent(id='ftevent-HZ5uEmeTPfeFjl6SJ801BxIJ', created_at=1707400553, level='info', message='New fine-tuned model created: ft:gpt-3.5-turbo-0613:coursera::8pzAWy37', object='fine_tuning.job.event', data={}, type='message'), FineTuningJobEvent(id='ftevent-JE9YVjNuzTqERmMsLkKwXf6L', created_at=1707400547, level='info', message='Step 76/76: training loss=0.46', object='fine_tuning.job.event', data={'step': 76, 'train_loss': 0.46107229590415955, 'total_steps': 76, 'train_mean_token_accuracy': 0.8333333134651184}, type='metrics'), FineTuningJobEvent(id='ftevent-Upj82G4ERhk8BgChFlICLwaZ', created_at=1707400545, level='info', message='Step 75/76: training loss=0.62', object='fine_tuning.job.event', data={'step': 75, 'train_loss': 0.6237465739250183, 'total_steps': 76, 'train_mean_token_accuracy': 0.800000011920929}, type='metrics'), FineTuningJobEvent(id='ftevent-sXPiFezg7A1ofDvebjHQtJDS', created_at=1707400545, level='info', message='Step 74/76: training loss=0.31', object='fine_tuning.job.event', data={'step': 74, 'train_loss': 0.31257662177085876, 'total_steps': 76, 'train_mean_token_accuracy': 0.8611111044883728}, type='metrics'), FineTuningJobEvent(id='ftevent-1r3lOXlvfuUAteVAo1gVjojr', created_at=1707400543, level='info', message='Step 73/76: training loss=0.57', object='fine_tuning.job.event', data={'step': 73, 'train_loss': 0.5735891461372375, 'total_steps': 76, 'train_mean_token_accuracy': 0.7948718070983887}, type='metrics'), FineTuningJobEvent(id='ftevent-bNLTQuZYZ0QTiv1SnSD93X21', created_at=1707400541, level='info', message='Step 72/76: training loss=0.43', object='fine_tuning.job.event', data={'step': 72, 'train_loss': 0.43003982305526733, 'total_steps': 76, 'train_mean_token_accuracy': 0.8888888955116272}, type='metrics'), FineTuningJobEvent(id='ftevent-mvdVFmhPs24MWcZK1g4i7S9R', created_at=1707400539, level='info', message='Step 71/76: training loss=0.68', object='fine_tuning.job.event', data={'step': 71, 'train_loss': 0.6759346723556519, 'total_steps': 76, 'train_mean_token_accuracy': 0.8571428656578064}, type='metrics'), FineTuningJobEvent(id='ftevent-qdIT35u5UpJl52ofD4c0o94O', created_at=1707400537, level='info', message='Step 70/76: training loss=0.92', object='fine_tuning.job.event', data={'step': 70, 'train_loss': 0.9204594492912292, 'total_steps': 76, 'train_mean_token_accuracy': 0.8461538553237915}, type='metrics'), FineTuningJobEvent(id='ftevent-2mae4YCmQn6XlUoPXQJh2Xjk', created_at=1707400535, level='info', message='Step 69/76: training loss=1.18', object='fine_tuning.job.event', data={'step': 69, 'train_loss': 1.1833101511001587, 'total_steps': 76, 'train_mean_token_accuracy': 0.7179487347602844}, type='metrics'), FineTuningJobEvent(id='ftevent-klqXijvSLMehyr54hZQ1NVFj', created_at=1707400533, level='info', message='Step 68/76: training loss=0.36', object='fine_tuning.job.event', data={'step': 68, 'train_loss': 0.3629285395145416, 'total_steps': 76, 'train_mean_token_accuracy': 0.8333333134651184}, type='metrics'), FineTuningJobEvent(id='ftevent-wCkLCUkB9jx3iIjwaq8SEbYG', created_at=1707400531, level='info', message='Step 67/76: training loss=0.66', object='fine_tuning.job.event', data={'step': 67, 'train_loss': 0.6610716581344604, 'total_steps': 76, 'train_mean_token_accuracy': 0.7692307829856873}, type='metrics'), FineTuningJobEvent(id='ftevent-Pv2w8cx3QsBvfSBabQL8bSwS', created_at=1707400531, level='info', message='Step 66/76: training loss=0.36', object='fine_tuning.job.event', data={'step': 66, 'train_loss': 0.36411312222480774, 'total_steps': 76, 'train_mean_token_accuracy': 0.8823529481887817}, type='metrics'), FineTuningJobEvent(id='ftevent-OKz2125NCoMosDCqPISW2q3S', created_at=1707400529, level='info', message='Step 65/76: training loss=0.36', object='fine_tuning.job.event', data={'step': 65, 'train_loss': 0.36219140887260437, 'total_steps': 76, 'train_mean_token_accuracy': 0.8181818127632141}, type='metrics'), FineTuningJobEvent(id='ftevent-gPYC04fAjuCzdXgfMvGw5iMk', created_at=1707400527, level='info', message='Step 64/76: training loss=0.34', object='fine_tuning.job.event', data={'step': 64, 'train_loss': 0.3399992287158966, 'total_steps': 76, 'train_mean_token_accuracy': 0.8604651093482971}, type='metrics'), FineTuningJobEvent(id='ftevent-180Zms5DhtxOyYS22OxE8x4j', created_at=1707400525, level='info', message='Step 63/76: training loss=0.34', object='fine_tuning.job.event', data={'step': 63, 'train_loss': 0.33766788244247437, 'total_steps': 76, 'train_mean_token_accuracy': 0.9090909361839294}, type='metrics'), FineTuningJobEvent(id='ftevent-5XHGK0tyvNTe3Xh5p9op70Wv', created_at=1707400523, level='info', message='Step 62/76: training loss=0.34', object='fine_tuning.job.event', data={'step': 62, 'train_loss': 0.338545560836792, 'total_steps': 76, 'train_mean_token_accuracy': 0.8518518805503845}, type='metrics'), FineTuningJobEvent(id='ftevent-kpZ6sKUj4hn8iuhpOwhODqnZ', created_at=1707400521, level='info', message='Step 61/76: training loss=0.36', object='fine_tuning.job.event', data={'step': 61, 'train_loss': 0.35667693614959717, 'total_steps': 76, 'train_mean_token_accuracy': 0.8518518805503845}, type='metrics'), FineTuningJobEvent(id='ftevent-cqMuIJ3emzQ40VX5HCFQcLEt', created_at=1707400519, level='info', message='Step 60/76: training loss=0.46', object='fine_tuning.job.event', data={'step': 60, 'train_loss': 0.4579547941684723, 'total_steps': 76, 'train_mean_token_accuracy': 0.8571428656578064}, type='metrics'), FineTuningJobEvent(id='ftevent-LFYDlUuz4VwM4MsGRz5JqvNF', created_at=1707400517, level='info', message='Step 59/76: training loss=0.61', object='fine_tuning.job.event', data={'step': 59, 'train_loss': 0.6094643473625183, 'total_steps': 76, 'train_mean_token_accuracy': 0.8157894611358643}, type='metrics'), FineTuningJobEvent(id='ftevent-nVdhA2G1R6eALeYcWorAK4Ru', created_at=1707400515, level='info', message='Step 58/76: training loss=0.47', object='fine_tuning.job.event', data={'step': 58, 'train_loss': 0.47444257140159607, 'total_steps': 76, 'train_mean_token_accuracy': 0.8484848737716675}, type='metrics'), FineTuningJobEvent(id='ftevent-O2c8P543Fd5aWyRZXoPJtzdO', created_at=1707400515, level='info', message='Step 57/76: training loss=0.48', object='fine_tuning.job.event', data={'step': 57, 'train_loss': 0.48401468992233276, 'total_steps': 76, 'train_mean_token_accuracy': 0.800000011920929}, type='metrics'), FineTuningJobEvent(id='ftevent-AUHP6htZolQqJt35FwHy5bgK', created_at=1707400513, level='info', message='Step 56/76: training loss=0.62', object='fine_tuning.job.event', data={'step': 56, 'train_loss': 0.6152422428131104, 'total_steps': 76, 'train_mean_token_accuracy': 0.7692307829856873}, type='metrics'), FineTuningJobEvent(id='ftevent-6WiG1eiktlPh9CEzWovtVpVV', created_at=1707400511, level='info', message='Step 55/76: training loss=0.52', object='fine_tuning.job.event', data={'step': 55, 'train_loss': 0.5185601711273193, 'total_steps': 76, 'train_mean_token_accuracy': 0.8529411554336548}, type='metrics'), FineTuningJobEvent(id='ftevent-a5xYACDcN0E40J1ZVZxISmhr', created_at=1707400509, level='info', message='Step 54/76: training loss=0.56', object='fine_tuning.job.event', data={'step': 54, 'train_loss': 0.5579599738121033, 'total_steps': 76, 'train_mean_token_accuracy': 0.7714285850524902}, type='metrics'), FineTuningJobEvent(id='ftevent-AfFltdxZVdKfjpSrgLOnu6Oz', created_at=1707400507, level='info', message='Step 53/76: training loss=0.40', object='fine_tuning.job.event', data={'step': 53, 'train_loss': 0.4020567536354065, 'total_steps': 76, 'train_mean_token_accuracy': 0.84375}, type='metrics'), FineTuningJobEvent(id='ftevent-ZDfaTxjXLAG5sEicCs9pXhAr', created_at=1707400505, level='info', message='Step 52/76: training loss=0.67', object='fine_tuning.job.event', data={'step': 52, 'train_loss': 0.6727104187011719, 'total_steps': 76, 'train_mean_token_accuracy': 0.7692307829856873}, type='metrics'), FineTuningJobEvent(id='ftevent-79c1UYqaeDXrMCYkHYWYazrq', created_at=1707400503, level='info', message='Step 51/76: training loss=0.56', object='fine_tuning.job.event', data={'step': 51, 'train_loss': 0.56190025806427, 'total_steps': 76, 'train_mean_token_accuracy': 0.8484848737716675}, type='metrics'), FineTuningJobEvent(id='ftevent-VAEZER4lzofJkkeSWBTcbpec', created_at=1707400501, level='info', message='Step 50/76: training loss=0.59', object='fine_tuning.job.event', data={'step': 50, 'train_loss': 0.5876734852790833, 'total_steps': 76, 'train_mean_token_accuracy': 0.75}, type='metrics'), FineTuningJobEvent(id='ftevent-fZXvQcwwfnMiyiZC0IVAm8xj', created_at=1707400499, level='info', message='Step 49/76: training loss=0.56', object='fine_tuning.job.event', data={'step': 49, 'train_loss': 0.5602830052375793, 'total_steps': 76, 'train_mean_token_accuracy': 0.7941176295280457}, type='metrics'), FineTuningJobEvent(id='ftevent-vkVJGsbbh3Qf1sGc9Rxo1Qyp', created_at=1707400499, level='info', message='Step 48/76: training loss=0.37', object='fine_tuning.job.event', data={'step': 48, 'train_loss': 0.3656417429447174, 'total_steps': 76, 'train_mean_token_accuracy': 0.9285714030265808}, type='metrics'), FineTuningJobEvent(id='ftevent-tWLhbtTkUaxVEINS7V6rtX6r', created_at=1707400497, level='info', message='Step 47/76: training loss=0.39', object='fine_tuning.job.event', data={'step': 47, 'train_loss': 0.38545212149620056, 'total_steps': 76, 'train_mean_token_accuracy': 0.8421052694320679}, type='metrics'), FineTuningJobEvent(id='ftevent-imuvAUe3TjOEeuFqTRTM9dkX', created_at=1707400495, level='info', message='Step 46/76: training loss=0.61', object='fine_tuning.job.event', data={'step': 46, 'train_loss': 0.613961935043335, 'total_steps': 76, 'train_mean_token_accuracy': 0.6944444179534912}, type='metrics'), FineTuningJobEvent(id='ftevent-hsAq89Rhr23hL0ofs4B7a0A1', created_at=1707400493, level='info', message='Step 45/76: training loss=0.49', object='fine_tuning.job.event', data={'step': 45, 'train_loss': 0.49213629961013794, 'total_steps': 76, 'train_mean_token_accuracy': 0.84375}, type='metrics'), FineTuningJobEvent(id='ftevent-Y0hidzHavdiOuovpN3P0Tx3G', created_at=1707400491, level='info', message='Step 44/76: training loss=0.65', object='fine_tuning.job.event', data={'step': 44, 'train_loss': 0.6502047777175903, 'total_steps': 76, 'train_mean_token_accuracy': 0.7666666507720947}, type='metrics'), FineTuningJobEvent(id='ftevent-492zo1Hx8oJ13JS14oUJhrvS', created_at=1707400489, level='info', message='Step 43/76: training loss=0.58', object='fine_tuning.job.event', data={'step': 43, 'train_loss': 0.5794481635093689, 'total_steps': 76, 'train_mean_token_accuracy': 0.800000011920929}, type='metrics'), FineTuningJobEvent(id='ftevent-2TzNWPG6QuCjWo6vlBR0H9hL', created_at=1707400487, level='info', message='Step 42/76: training loss=0.63', object='fine_tuning.job.event', data={'step': 42, 'train_loss': 0.6347779631614685, 'total_steps': 76, 'train_mean_token_accuracy': 0.7352941036224365}, type='metrics'), FineTuningJobEvent(id='ftevent-4xTAp2fixym3Z4tKSKbyErl2', created_at=1707400485, level='info', message='Step 41/76: training loss=0.54', object='fine_tuning.job.event', data={'step': 41, 'train_loss': 0.5377897620201111, 'total_steps': 76, 'train_mean_token_accuracy': 0.800000011920929}, type='metrics'), FineTuningJobEvent(id='ftevent-IYO2yLc86ATKV9hFrRMagEl9', created_at=1707400483, level='info', message='Step 40/76: training loss=0.99', object='fine_tuning.job.event', data={'step': 40, 'train_loss': 0.9871689677238464, 'total_steps': 76, 'train_mean_token_accuracy': 0.75}, type='metrics'), FineTuningJobEvent(id='ftevent-NujVim71KdYlscEEZNjHOoJP', created_at=1707400483, level='info', message='Step 39/76: training loss=0.54', object='fine_tuning.job.event', data={'step': 39, 'train_loss': 0.543876051902771, 'total_steps': 76, 'train_mean_token_accuracy': 0.7941176295280457}, type='metrics'), FineTuningJobEvent(id='ftevent-0RY5U1sC85LDwfonMImxj6vL', created_at=1707400481, level='info', message='Step 38/76: training loss=0.77', object='fine_tuning.job.event', data={'step': 38, 'train_loss': 0.7690973281860352, 'total_steps': 76, 'train_mean_token_accuracy': 0.800000011920929}, type='metrics'), FineTuningJobEvent(id='ftevent-RxlemBlIG770tXaDSrJrghL9', created_at=1707400479, level='info', message='Step 37/76: training loss=0.63', object='fine_tuning.job.event', data={'step': 37, 'train_loss': 0.6285577416419983, 'total_steps': 76, 'train_mean_token_accuracy': 0.8181818127632141}, type='metrics'), FineTuningJobEvent(id='ftevent-dylAJgoPdpEPTMzIn5wKLQPW', created_at=1707400477, level='info', message='Step 36/76: training loss=0.68', object='fine_tuning.job.event', data={'step': 36, 'train_loss': 0.6782333850860596, 'total_steps': 76, 'train_mean_token_accuracy': 0.800000011920929}, type='metrics'), FineTuningJobEvent(id='ftevent-xIEdNsij0vKn51vIt8KgLIvl', created_at=1707400475, level='info', message='Step 35/76: training loss=0.85', object='fine_tuning.job.event', data={'step': 35, 'train_loss': 0.8537636995315552, 'total_steps': 76, 'train_mean_token_accuracy': 0.800000011920929}, type='metrics'), FineTuningJobEvent(id='ftevent-KcuHqsKmL5NWYdYvz9vZaz8N', created_at=1707400473, level='info', message='Step 34/76: training loss=0.91', object='fine_tuning.job.event', data={'step': 34, 'train_loss': 0.9083596467971802, 'total_steps': 76, 'train_mean_token_accuracy': 0.7692307829856873}, type='metrics'), FineTuningJobEvent(id='ftevent-P7M2uQgNNf6g6DfNUghQsb5J', created_at=1707400471, level='info', message='Step 33/76: training loss=0.64', object='fine_tuning.job.event', data={'step': 33, 'train_loss': 0.6444019079208374, 'total_steps': 76, 'train_mean_token_accuracy': 0.75}, type='metrics'), FineTuningJobEvent(id='ftevent-TZ9oHW2pjzidiJA12CCxukgg', created_at=1707400469, level='info', message='Step 32/76: training loss=0.70', object='fine_tuning.job.event', data={'step': 32, 'train_loss': 0.6980205178260803, 'total_steps': 76, 'train_mean_token_accuracy': 0.6944444179534912}, type='metrics'), FineTuningJobEvent(id='ftevent-IX34sW2Z00pAVAz5salBxVAP', created_at=1707400469, level='info', message='Step 31/76: training loss=0.61', object='fine_tuning.job.event', data={'step': 31, 'train_loss': 0.6127214431762695, 'total_steps': 76, 'train_mean_token_accuracy': 0.800000011920929}, type='metrics'), FineTuningJobEvent(id='ftevent-fkTnrkk4BHHlEICaEe0Du5CV', created_at=1707400467, level='info', message='Step 30/76: training loss=0.89', object='fine_tuning.job.event', data={'step': 30, 'train_loss': 0.8902519345283508, 'total_steps': 76, 'train_mean_token_accuracy': 0.7692307829856873}, type='metrics'), FineTuningJobEvent(id='ftevent-J2glfZeVFf1OKs6p4azFEH4n', created_at=1707400465, level='info', message='Step 29/76: training loss=0.54', object='fine_tuning.job.event', data={'step': 29, 'train_loss': 0.5431126356124878, 'total_steps': 76, 'train_mean_token_accuracy': 0.8571428656578064}, type='metrics'), FineTuningJobEvent(id='ftevent-T51ZX1zCwHy2jdq2bZH5z0l8', created_at=1707400462, level='info', message='Step 28/76: training loss=0.97', object='fine_tuning.job.event', data={'step': 28, 'train_loss': 0.9657749533653259, 'total_steps': 76, 'train_mean_token_accuracy': 0.7714285850524902}, type='metrics'), FineTuningJobEvent(id='ftevent-kQffYyULRcc2HpsV0pN7g1es', created_at=1707400460, level='info', message='Step 27/76: training loss=0.86', object='fine_tuning.job.event', data={'step': 27, 'train_loss': 0.8594698905944824, 'total_steps': 76, 'train_mean_token_accuracy': 0.6470588445663452}, type='metrics'), FineTuningJobEvent(id='ftevent-izFJboWaFMR0A26lnFGxFEdu', created_at=1707400458, level='info', message='Step 26/76: training loss=1.16', object='fine_tuning.job.event', data={'step': 26, 'train_loss': 1.1580595970153809, 'total_steps': 76, 'train_mean_token_accuracy': 0.761904776096344}, type='metrics'), FineTuningJobEvent(id='ftevent-b8HpjoJEYKlVUQLmvL2mFhnG', created_at=1707400456, level='info', message='Step 25/76: training loss=0.61', object='fine_tuning.job.event', data={'step': 25, 'train_loss': 0.6149914264678955, 'total_steps': 76, 'train_mean_token_accuracy': 0.7575757503509521}, type='metrics'), FineTuningJobEvent(id='ftevent-kbIcazZbyOto7dRr16Z2r3Ix', created_at=1707400454, level='info', message='Step 24/76: training loss=0.62', object='fine_tuning.job.event', data={'step': 24, 'train_loss': 0.6181578636169434, 'total_steps': 76, 'train_mean_token_accuracy': 0.8684210777282715}, type='metrics'), FineTuningJobEvent(id='ftevent-h9JcARfHY0yJt3POXCT55Tuf', created_at=1707400452, level='info', message='Step 23/76: training loss=0.50', object='fine_tuning.job.event', data={'step': 23, 'train_loss': 0.4968489110469818, 'total_steps': 76, 'train_mean_token_accuracy': 0.8518518805503845}, type='metrics'), FineTuningJobEvent(id='ftevent-TpcIyYkE3uZCwZMJ7pqWEL8W', created_at=1707400452, level='info', message='Step 22/76: training loss=1.01', object='fine_tuning.job.event', data={'step': 22, 'train_loss': 1.0108561515808105, 'total_steps': 76, 'train_mean_token_accuracy': 0.6571428775787354}, type='metrics'), FineTuningJobEvent(id='ftevent-BWvxQhqF2o6viWo8SSHmyA6Q', created_at=1707400450, level='info', message='Step 21/76: training loss=0.91', object='fine_tuning.job.event', data={'step': 21, 'train_loss': 0.9093561768531799, 'total_steps': 76, 'train_mean_token_accuracy': 0.75}, type='metrics'), FineTuningJobEvent(id='ftevent-NnSbWo4oG35FycbOYEWtySKD', created_at=1707400448, level='info', message='Step 20/76: training loss=1.50', object='fine_tuning.job.event', data={'step': 20, 'train_loss': 1.4986909627914429, 'total_steps': 76, 'train_mean_token_accuracy': 0.7692307829856873}, type='metrics'), FineTuningJobEvent(id='ftevent-v67SMuUxWZi0AB59REFkVNNo', created_at=1707400446, level='info', message='Step 19/76: training loss=0.79', object='fine_tuning.job.event', data={'step': 19, 'train_loss': 0.7854990363121033, 'total_steps': 76, 'train_mean_token_accuracy': 0.8333333134651184}, type='metrics'), FineTuningJobEvent(id='ftevent-joJLCYxIxB9nHq8pUBwnikvG', created_at=1707400444, level='info', message='Step 18/76: training loss=1.28', object='fine_tuning.job.event', data={'step': 18, 'train_loss': 1.2841202020645142, 'total_steps': 76, 'train_mean_token_accuracy': 0.692307710647583}, type='metrics'), FineTuningJobEvent(id='ftevent-Uzw4RKoxEok1hOCyzwUMw2bM', created_at=1707400442, level='info', message='Step 17/76: training loss=1.11', object='fine_tuning.job.event', data={'step': 17, 'train_loss': 1.1072431802749634, 'total_steps': 76, 'train_mean_token_accuracy': 0.7058823704719543}, type='metrics'), FineTuningJobEvent(id='ftevent-J42qXAyjZ2WJmW0NM9eyAKfd', created_at=1707400440, level='info', message='Step 16/76: training loss=0.66', object='fine_tuning.job.event', data={'step': 16, 'train_loss': 0.661890983581543, 'total_steps': 76, 'train_mean_token_accuracy': 0.8372092843055725}, type='metrics'), FineTuningJobEvent(id='ftevent-LHLBu8NSeGxQfooYQOlS4mvK', created_at=1707400438, level='info', message='Step 15/76: training loss=1.21', object='fine_tuning.job.event', data={'step': 15, 'train_loss': 1.2130653858184814, 'total_steps': 76, 'train_mean_token_accuracy': 0.6363636255264282}, type='metrics'), FineTuningJobEvent(id='ftevent-3Y3qK5s7F2Su2HGD7QKJObxT', created_at=1707400436, level='info', message='Step 14/76: training loss=1.27', object='fine_tuning.job.event', data={'step': 14, 'train_loss': 1.273160696029663, 'total_steps': 76, 'train_mean_token_accuracy': 0.7352941036224365}, type='metrics'), FineTuningJobEvent(id='ftevent-PoqkuemICXQMeoynmTE6vR4P', created_at=1707400436, level='info', message='Step 13/76: training loss=1.08', object='fine_tuning.job.event', data={'step': 13, 'train_loss': 1.083022117614746, 'total_steps': 76, 'train_mean_token_accuracy': 0.6842105388641357}, type='metrics'), FineTuningJobEvent(id='ftevent-NBTy7f1TeG18zrqhiePBZqfA', created_at=1707400434, level='info', message='Step 12/76: training loss=2.42', object='fine_tuning.job.event', data={'step': 12, 'train_loss': 2.421442985534668, 'total_steps': 76, 'train_mean_token_accuracy': 0.5384615659713745}, type='metrics'), FineTuningJobEvent(id='ftevent-sRWSTrjdSqq1nTETEWtha9Si', created_at=1707400432, level='info', message='Step 11/76: training loss=1.47', object='fine_tuning.job.event', data={'step': 11, 'train_loss': 1.4733754396438599, 'total_steps': 76, 'train_mean_token_accuracy': 0.6470588445663452}, type='metrics'), FineTuningJobEvent(id='ftevent-Z7i25ZITwVZVbMwekSZ8L5rR', created_at=1707400430, level='info', message='Step 10/76: training loss=1.64', object='fine_tuning.job.event', data={'step': 10, 'train_loss': 1.6371173858642578, 'total_steps': 76, 'train_mean_token_accuracy': 0.7777777910232544}, type='metrics'), FineTuningJobEvent(id='ftevent-x0CPj3Gvzueai0aFbQWd0yBT', created_at=1707400428, level='info', message='Step 9/76: training loss=1.59', object='fine_tuning.job.event', data={'step': 9, 'train_loss': 1.5856194496154785, 'total_steps': 76, 'train_mean_token_accuracy': 0.71875}, type='metrics'), FineTuningJobEvent(id='ftevent-veuXPUgl87briEXZDVg1FVlL', created_at=1707400426, level='info', message='Step 8/76: training loss=1.19', object='fine_tuning.job.event', data={'step': 8, 'train_loss': 1.190765142440796, 'total_steps': 76, 'train_mean_token_accuracy': 0.7058823704719543}, type='metrics'), FineTuningJobEvent(id='ftevent-pEpC5zj5CzNJwsOmEjLB1BXH', created_at=1707400424, level='info', message='Step 7/76: training loss=1.11', object='fine_tuning.job.event', data={'step': 7, 'train_loss': 1.1060576438903809, 'total_steps': 76, 'train_mean_token_accuracy': 0.7575757503509521}, type='metrics'), FineTuningJobEvent(id='ftevent-JBAxeZxCP20CtpRaiKEI3pST', created_at=1707400422, level='info', message='Step 6/76: training loss=1.39', object='fine_tuning.job.event', data={'step': 6, 'train_loss': 1.3929606676101685, 'total_steps': 76, 'train_mean_token_accuracy': 0.75}, type='metrics'), FineTuningJobEvent(id='ftevent-vFXGhC2RlDWabZ7875RG4uLa', created_at=1707400420, level='info', message='Step 5/76: training loss=1.14', object='fine_tuning.job.event', data={'step': 5, 'train_loss': 1.1436911821365356, 'total_steps': 76, 'train_mean_token_accuracy': 0.5833333134651184}, type='metrics'), FineTuningJobEvent(id='ftevent-M9RCqKpZhABn77vszBphLc7d', created_at=1707400418, level='info', message='Step 4/76: training loss=0.86', object='fine_tuning.job.event', data={'step': 4, 'train_loss': 0.8641282320022583, 'total_steps': 76, 'train_mean_token_accuracy': 0.7777777910232544}, type='metrics'), FineTuningJobEvent(id='ftevent-3vWFDNlnD1PzjXCBVEyy0tIc', created_at=1707400416, level='info', message='Step 3/76: training loss=2.00', object='fine_tuning.job.event', data={'step': 3, 'train_loss': 1.9969749450683594, 'total_steps': 76, 'train_mean_token_accuracy': 0.65625}, type='metrics'), FineTuningJobEvent(id='ftevent-y2ErwYalQVmQoQkxTMr2uDVS', created_at=1707400414, level='info', message='Step 2/76: training loss=1.57', object='fine_tuning.job.event', data={'step': 2, 'train_loss': 1.5748300552368164, 'total_steps': 76, 'train_mean_token_accuracy': 0.6666666865348816}, type='metrics'), FineTuningJobEvent(id='ftevent-Wby3wJFeYTQX09U46U6P3p04', created_at=1707400412, level='info', message='Step 1/76: training loss=1.11', object='fine_tuning.job.event', data={'step': 1, 'train_loss': 1.1067347526550293, 'total_steps': 76, 'train_mean_token_accuracy': 0.675000011920929}, type='metrics'), FineTuningJobEvent(id='ftevent-3Plyai4rfdttDYp5B187ykbU', created_at=1707400225, level='info', message='Fine-tuning job started', object='fine_tuning.job.event', data=None, type='message'), FineTuningJobEvent(id='ftevent-PFZkI5ppftqaNkDQxXRZ7j3C', created_at=1707400224, level='info', message='Files validated, moving job to queued state', object='fine_tuning.job.event', data={}, type='message'), FineTuningJobEvent(id='ftevent-SpKBqTYFholAjeHIIBhcyoBY', created_at=1707400202, level='info', message='Validating training file: file-5gQJu0Ln8tXAlZrUPsTyie3M', object='fine_tuning.job.event', data={}, type='message'), FineTuningJobEvent(id='ftevent-P6HLXSF0svXzX0OKWNDRJyzQ', created_at=1707400202, level='info', message='Created fine-tuning job: ftjob-iOBbgWX7vgwEAWs4Vdc45oYv', object='fine_tuning.job.event', data={}, type='message')]\n"
          ]
        }
      ],
      "source": [
        "# write your code here"
      ]
    },
    {
      "cell_type": "markdown",
      "metadata": {
        "id": "wO9ShakvBFQy"
      },
      "source": [
        "Loop through the `events` and extract the following information from each event object and store them in different lists:\n",
        "- steps\n",
        "- training_loss\n",
        "- train_mean_token_accuracy\n",
        "\n",
        "`Hint:` Each event object inside the `events` list has a property called data. You can find what you need there!"
      ]
    },
    {
      "cell_type": "code",
      "execution_count": null,
      "metadata": {
        "id": "iax3IoVRBse1"
      },
      "outputs": [],
      "source": [
        "# Initialize empty lists to store the extracted information\n",
        "steps, training_loss, train_mean_token_accuracy = [], [], []\n",
        "\n",
        "# Loop through each event object in the events list\n",
        "# Extract and append the step, training loss, and train_mean_token_accuracy from the event object\n",
        "# write your code here"
      ]
    },
    {
      "cell_type": "markdown",
      "metadata": {
        "id": "SSjAAwMHG5g-"
      },
      "source": [
        "Create a line chart using Matplotlib to visualize how training loss changes over learning steps."
      ]
    },
    {
      "cell_type": "code",
      "execution_count": null,
      "metadata": {
        "colab": {
          "base_uri": "https://localhost:8080/",
          "height": 449
        },
        "id": "v1-A6tzNBvSk",
        "outputId": "c2a16b36-93b7-4a0e-8156-e0399dbad870"
      },
      "outputs": [],
      "source": [
        "# write your code here"
      ]
    },
    {
      "cell_type": "markdown",
      "metadata": {
        "id": "r1wYKm2GHPci"
      },
      "source": [
        "Now create a line chart using Matplotlib to visualize how train_mean_token_accuracy changes over learning steps."
      ]
    },
    {
      "cell_type": "code",
      "execution_count": null,
      "metadata": {
        "colab": {
          "base_uri": "https://localhost:8080/",
          "height": 448
        },
        "id": "wVCJfTbiHPup",
        "outputId": "b36054e2-3b85-42bb-c44c-af69bb440617"
      },
      "outputs": [],
      "source": [
        "# write your code here"
      ]
    },
    {
      "cell_type": "markdown",
      "metadata": {
        "id": "ky9MvTJGHfDU"
      },
      "source": [
        "💡 A good model fine-tuning is indicated by a decrease in training loss over the learning steps and an increase in training mean token accuracy over the steps.\n",
        "\n",
        "Look at the charts you created to assess if your training procedure was effective."
      ]
    }
  ],
  "metadata": {
    "colab": {
      "provenance": []
    },
    "kernelspec": {
      "display_name": ".venv",
      "language": "python",
      "name": "python3"
    },
    "language_info": {
      "codemirror_mode": {
        "name": "ipython",
        "version": 3
      },
      "file_extension": ".py",
      "mimetype": "text/x-python",
      "name": "python",
      "nbconvert_exporter": "python",
      "pygments_lexer": "ipython3",
      "version": "3.11.2"
    }
  },
  "nbformat": 4,
  "nbformat_minor": 0
}
